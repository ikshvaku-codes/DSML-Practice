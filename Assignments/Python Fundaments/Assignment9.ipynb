{
  "nbformat": 4,
  "nbformat_minor": 0,
  "metadata": {
    "colab": {
      "provenance": []
    },
    "kernelspec": {
      "name": "python3",
      "display_name": "Python 3"
    },
    "language_info": {
      "name": "python"
    }
  },
  "cells": [
    {
      "cell_type": "markdown",
      "source": [
        "1. To what does a relative path refer?\n",
        "---\n",
        "* Relative path refer to the current directory.\n",
        "---\n",
        "---\n",
        "2. What does an absolute path start with your operating system?\n",
        "---\n",
        "* C:\\\n",
        "---\n",
        "---\n",
        "3. What do the functions os.getcwd() and os.chdir() do?\n",
        "---\n",
        "* os.getcwd():- returns the current working directory\n",
        "* os.chdir():- used to change current directory\n",
        "---\n",
        "---\n",
        "4. What are the . and .. folders?\n",
        "---\n",
        "* . move one step up from currend working directory\n",
        "* .. move two step up from currend working directory\n",
        "---\n",
        "---\n",
        "5. In C:\\bacon\\eggs\\spam.txt, which part is the dir name, and which part is the base name?\n",
        "---\n",
        "* dir nae:- eggs, bacon\n",
        "* base name:- C:\\\n",
        "---\n",
        "---\n",
        "6. What are the three “mode” arguments that can be passed to the open() function?\n",
        "---\n",
        "* read (default mode)\n",
        "* write\n",
        "* append\n",
        "---\n",
        "---\n",
        "7. What happens if an existing file is opened in write mode?\n",
        "---\n",
        "* Delete the existing content immediately.\n",
        "---\n",
        "---\n",
        "8. How do you tell the difference between read() and readlines()?\n",
        "---\n",
        "* read():- read the whole text in one go.\n",
        "* readlines():- read the text line by line.\n",
        "---\n",
        "---\n",
        "9. What data structure does a shelf value resemble?\n",
        "---\n",
        "* Dictionary"
      ],
      "metadata": {
        "id": "xgU007udkquz"
      }
    }
  ]
}