{
  "nbformat": 4,
  "nbformat_minor": 0,
  "metadata": {
    "colab": {
      "provenance": []
    },
    "kernelspec": {
      "name": "python3",
      "display_name": "Python 3"
    },
    "language_info": {
      "name": "python"
    }
  },
  "cells": [
    {
      "cell_type": "markdown",
      "source": [
        "1. What are escape characters, and how do you use them?\n",
        "---\n",
        "* Special type of character inserted after a back slash(\"\\\") in a string\n",
        "* eg \"\\n\"\n",
        "---\n",
        "---\n",
        "2. What do the escape characters n and t stand for?\n",
        "---\n",
        "* n:- new line\n",
        "* t:- tab\n",
        "---\n",
        "---\n",
        "3. What is the way to include backslash characters in a string?\n",
        "---\n",
        "* \"\\n\"\n",
        "---\n",
        "---\n",
        "4. The string &quot;Howl&#39;s Moving Castle&quot; is a correct value. Why isn&#39;t the single quote character in the\n",
        "word Howl&#39;s not escaped a problem?\n",
        "---\n",
        "* In given string the single quote is used inside double quotes, so it is not a problem.\n",
        "---\n",
        "---\n",
        "5. How do you write a string of newlines if you don&#39;t want to use the n character?\n",
        "---\n",
        "* print(f\"{newline}\")\n",
        "---\n",
        "---\n",
        "6. What are the values of the given expressions?\n",
        "* &#39;Hello, world!&#39;[1]\n",
        "* &#39;Hello, world!&#39;[0:5]\n",
        "* &#39;Hello, world!&#39;[:5]\n",
        "* &#39;Hello, world!&#39;[3:]\n",
        "---\n",
        "* e\n",
        "* Hello\n",
        "* Hello\n",
        "* lo, world!\n",
        "---\n",
        "---\n",
        "7. What are the values of the following expressions?\n",
        "* &#39;Hello&#39;.upper()\n",
        "* &#39;Hello&#39;.upper().isupper()\n",
        "* &#39;Hello&#39;.upper().lower()\n",
        "---\n",
        "* HELLO\n",
        "* True\n",
        "* hello\n",
        "---\n",
        "---\n",
        "8. What are the values of the following expressions?\n",
        "* &#39;Remember, remember, the fifth of July.&#39;.split()\n",
        "* &#39;-&#39;.join(&#39;There can only one.&#39;.split())\n",
        "---\n",
        "* ['Remember,', 'remember,', 'the', 'fifth', 'of', 'July.']\n",
        "* There-can-only-one.\n",
        "---\n",
        "---\n",
        "9. What are the methods for right-justifying, left-justifying, and centering a string?\n",
        "---\n",
        "* right-Justifying:- string.rjust()\n",
        "* left-Justifying:- string.ljust()\n",
        "* Centering:- string.center()\n",
        "---\n",
        "---\n",
        "10. What is the best way to remove whitespace characters from the start or end?\n",
        "---\n",
        "* strip()"
      ],
      "metadata": {
        "id": "7eKvb2yYe6C_"
      }
    },
    {
      "cell_type": "code",
      "source": [
        "'-'.join('There can only one.'.split())"
      ],
      "metadata": {
        "colab": {
          "base_uri": "https://localhost:8080/",
          "height": 36
        },
        "id": "5IZwx9tuiaut",
        "outputId": "e0a335df-1367-41ea-946c-33b52e261b9d"
      },
      "execution_count": 2,
      "outputs": [
        {
          "output_type": "execute_result",
          "data": {
            "text/plain": [
              "'There-can-only-one.'"
            ],
            "application/vnd.google.colaboratory.intrinsic+json": {
              "type": "string"
            }
          },
          "metadata": {},
          "execution_count": 2
        }
      ]
    }
  ]
}