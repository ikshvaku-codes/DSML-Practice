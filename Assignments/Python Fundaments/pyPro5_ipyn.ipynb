{
  "nbformat": 4,
  "nbformat_minor": 0,
  "metadata": {
    "colab": {
      "provenance": []
    },
    "kernelspec": {
      "name": "python3",
      "display_name": "Python 3"
    },
    "language_info": {
      "name": "python"
    }
  },
  "cells": [
    {
      "cell_type": "markdown",
      "source": [
        "1. Write a Python Program to Find LCM?\n"
      ],
      "metadata": {
        "id": "IcRO8B7hyFpR"
      }
    },
    {
      "cell_type": "code",
      "source": [
        "def lcm(x, y):\n",
        "\n",
        "   if x > y:\n",
        "       greater = x\n",
        "   else:\n",
        "       greater = y\n",
        "\n",
        "   while(True):\n",
        "       if((greater % x == 0) and (greater % y == 0)):\n",
        "           lcm = greater\n",
        "           break\n",
        "       greater += 1\n",
        "\n",
        "   return lcm\n",
        "\n",
        "lcm(133,5694)"
      ],
      "metadata": {
        "colab": {
          "base_uri": "https://localhost:8080/"
        },
        "id": "_h2xqjvvyOFB",
        "outputId": "d5904110-f42f-4f08-eadf-b4383368a574"
      },
      "execution_count": null,
      "outputs": [
        {
          "output_type": "execute_result",
          "data": {
            "text/plain": [
              "757302"
            ]
          },
          "metadata": {},
          "execution_count": 1
        }
      ]
    },
    {
      "cell_type": "markdown",
      "source": [
        "2. Write a Python Program to Find HCF?\n"
      ],
      "metadata": {
        "id": "5LSmZm4OyICJ"
      }
    },
    {
      "cell_type": "code",
      "source": [
        "def hcf(x, y):\n",
        "    if x > y:\n",
        "        smaller = y\n",
        "    else:\n",
        "        smaller = x\n",
        "    for i in range(1, smaller+1):\n",
        "        if((x % i == 0) and (y % i == 0)):\n",
        "            hcf = i \n",
        "    return hcf\n",
        "\n",
        "hcf(133,5694)"
      ],
      "metadata": {
        "colab": {
          "base_uri": "https://localhost:8080/"
        },
        "id": "RzoQgaLUzdcq",
        "outputId": "1514ed60-6e4a-4403-ea46-f0a727465500"
      },
      "execution_count": null,
      "outputs": [
        {
          "output_type": "execute_result",
          "data": {
            "text/plain": [
              "1"
            ]
          },
          "metadata": {},
          "execution_count": 2
        }
      ]
    },
    {
      "cell_type": "markdown",
      "source": [
        "3. Write a Python Program to Convert Decimal to Binary, Octal and Hexadecimal?\n"
      ],
      "metadata": {
        "id": "J_e1wnzTyJrl"
      }
    },
    {
      "cell_type": "code",
      "source": [
        "def dec2Bin(number):\n",
        "  n=0\n",
        "  while number >= 2**n:\n",
        "    \n",
        "    n+=1\n",
        "  #print(f\"Value of n: {n}\")\n",
        "  binary = \"1\"\n",
        "  if number == 0:\n",
        "    binary = \"\"\n",
        "  \n",
        "  newNum = number - 2**(n-1)\n",
        "  if number > 0:\n",
        "    newN, smallBin = dec2Bin(newNum)\n",
        "    zeros = n - newN - 1\n",
        "    binary =binary+ \"0\"*zeros + smallBin\n",
        "  return n,binary\n",
        "\n",
        "def dec2Oct(number):\n",
        "  n,bin = dec2Bin(number)\n",
        "  pairs = []\n",
        "  pair=\"\"\n",
        "  for i in bin[::-1]:\n",
        "    if len(pair) == 3:\n",
        "      pairs.insert(0,pair[::-1])\n",
        "      pair = i\n",
        "      continue\n",
        "    pair = pair+i\n",
        "\n",
        "  if len(pair) == 1:\n",
        "    pairs.insert(0,\"00\"+pair)\n",
        "  if len(pair) == 2:\n",
        "    pairs.insert(0,\"0\"+pair[::-1])\n",
        "  if len(pair) == 3:\n",
        "    pairs.insert(0,pair[::-1])\n",
        "  oct = \"\"\n",
        "  #print(pairs)\n",
        "  for eachPair in pairs:\n",
        "    octVal = 0\n",
        "    #if eachPair != \"000\":\n",
        "    place = 2\n",
        "    for i in range(0,3):\n",
        "      \n",
        "      #print(f\"for pair {eachPair} place {place} intented value is {int(eachPair[i])}\")\n",
        "\n",
        "      if int(eachPair[i]) == 1:\n",
        "        octVal+=2**place\n",
        "      \n",
        "      place-=1\n",
        "    oct = oct + str(octVal)\n",
        "  return int(oct)\n",
        "\n",
        "def dec2Hex(number):\n",
        "  n,bin = dec2Bin(number)\n",
        "  pairs = []\n",
        "  pair=\"\"\n",
        "  for i in bin[::-1]:\n",
        "    if len(pair) == 4:\n",
        "      pairs.insert(0,pair[::-1])\n",
        "      pair = i\n",
        "      continue\n",
        "    pair = pair+i\n",
        "\n",
        "  if len(pair) == 1:\n",
        "    pairs.insert(0,\"000\"+pair)\n",
        "  if len(pair) == 2:\n",
        "    pairs.insert(0,\"00\"+pair[::-1])\n",
        "  if len(pair) == 3:\n",
        "    pairs.insert(0,\"0\"+pair[::-1])\n",
        "  if len(pair) == 4:\n",
        "    pairs.insert(0,pair[::-1])\n",
        "  hexa = \"\"\n",
        "  #print(pairs)\n",
        "  for eachPair in pairs:\n",
        "    hexVal = 0\n",
        "    #if eachPair != \"000\":\n",
        "    place = 3\n",
        "    for i in range(0,4):\n",
        "      \n",
        "      #print(f\"for pair {eachPair} place {place} intented value is {int(eachPair[i])}\")\n",
        "\n",
        "      if int(eachPair[i]) == 1:\n",
        "        hexVal+=2**place\n",
        "      \n",
        "      place-=1\n",
        "    hexList = [\"A\", \"B\", \"C\", \"D\", \"E\", \"F\"]\n",
        "    if hexVal < 10:\n",
        "      hexa = hexa+str(hexVal)\n",
        "    else:\n",
        "      hexa = hexa+hexList[hexVal-10]\n",
        "  return hexa\n",
        "\n",
        "exit = \"N\"\n",
        "while exit == \"N\":\n",
        "  number = int(input(\"Enter the Number to convert: \"))\n",
        "  print(\"Choose the tool You wanna use from Decimal to:\\n\\tPress 1: Binary\\n\\tPress 2: Octal\\n\\tPress 3: Hexadecimal\\n\\tPress 4: all 3\")\n",
        "  tool = int(input(\"Enter your Choice: \"))\n",
        "  \n",
        "  if tool == 1:\n",
        "    n, bin = dec2Bin(number)\n",
        "    print(f\"Binary of {number} is: {bin}\")\n",
        "  elif tool == 2:\n",
        "    oct = dec2Oct(number)\n",
        "    print(f\"Octal of {number} is: {oct}\")\n",
        "  elif tool == 3:\n",
        "    hex = dec2Hex(number)\n",
        "    print(f\"Hexadecimal of {number} is: {hex}\")\n",
        "  elif tool == 4:\n",
        "    n, bin = dec2Bin(number)\n",
        "    print(f\"Binary of {number} is: {bin}\")\n",
        "    oct = dec2Oct(number)\n",
        "    print(f\"Octal of {number} is: {oct}\")\n",
        "    hex = dec2Hex(number)\n",
        "    print(f\"Hexadecimal of {number} is: {hex}\")\n",
        "  exit = input(\"Do you want to Exit(Y/N): \")\n",
        "\n"
      ],
      "metadata": {
        "id": "43VSzXtfznoc",
        "colab": {
          "base_uri": "https://localhost:8080/"
        },
        "outputId": "db7d2498-294b-4680-d4e0-97de72d88ccf"
      },
      "execution_count": 48,
      "outputs": [
        {
          "name": "stdout",
          "output_type": "stream",
          "text": [
            "Enter the Number to convert4656\n",
            "Choose the tool You wanna use from Decimal to:\n",
            "\tPress 1: Binary\n",
            "\tPress 2: Octal\n",
            "\tPress 3: Hexadecimal\n",
            "\tPress 4: all 3\n",
            "Enter your Choice1\n",
            "Binary of 4656 is: 1001000110000\n",
            "Do you want to Exit(Y/N)Y\n"
          ]
        }
      ]
    },
    {
      "cell_type": "markdown",
      "source": [
        "4. Write a Python Program To Find ASCII value of a character?\n"
      ],
      "metadata": {
        "id": "xlbbhaOHyLOn"
      }
    },
    {
      "cell_type": "code",
      "source": [
        "value = input(\"Enter the char: \")\n",
        "print(f\"ASCII value of {value} is: {ord(value)}\")"
      ],
      "metadata": {
        "colab": {
          "base_uri": "https://localhost:8080/"
        },
        "id": "ZzHtTfNjCRmt",
        "outputId": "3fa19893-2f0e-461a-84f8-e451ddf4018f"
      },
      "execution_count": 50,
      "outputs": [
        {
          "output_type": "stream",
          "name": "stdout",
          "text": [
            "Enter the char: p\n",
            "ASCII value of p is: 112\n"
          ]
        }
      ]
    },
    {
      "cell_type": "markdown",
      "source": [
        "5. Write a Python Program to Make a Simple Calculator with 4 basic mathematical operations?"
      ],
      "metadata": {
        "id": "s0KmeySeyM5Q"
      }
    },
    {
      "cell_type": "code",
      "source": [
        "exit = \"N\"\n",
        "while exit == \"N\":\n",
        "  number1 = int(input(\"Enter the first number: \"))\n",
        "  number2 = int(input(\"Enter the second number: \"))\n",
        "  print(\"Operation to Perform to:\\n\\tPress 1: Addition\\n\\tPress 2: Substraction\\n\\tPress 3: Multiplication\\n\\tPress 4: Division\")\n",
        "  tool = int(input(\"Enter your Choice: \"))\n",
        "  \n",
        "  if tool == 1:\n",
        "    print(f\"Addition of {number1} and {number2} is {number1+number2}\")\n",
        "  elif tool == 2:\n",
        "    print(f\"Substraction of {number1} and {number2} is {number1-number2}\")\n",
        "  elif tool == 3:\n",
        "    print(f\"Multiplication of {number1} and {number2} is {number1*number2}\")\n",
        "\n",
        "  elif tool == 4:\n",
        "    print(f\"Division of {number1} and {number2} is {number1/number2}\")\n",
        "\n",
        "  exit = input(\"Do you want to Exit(Y/N): \")"
      ],
      "metadata": {
        "id": "9maaBcoZCzB8"
      },
      "execution_count": null,
      "outputs": []
    },
    {
      "cell_type": "markdown",
      "source": [],
      "metadata": {
        "id": "oJcKByWmCPjU"
      }
    }
  ]
}