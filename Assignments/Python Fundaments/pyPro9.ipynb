{
  "nbformat": 4,
  "nbformat_minor": 0,
  "metadata": {
    "colab": {
      "provenance": []
    },
    "kernelspec": {
      "name": "python3",
      "display_name": "Python 3"
    },
    "language_info": {
      "name": "python"
    }
  },
  "cells": [
    {
      "cell_type": "markdown",
      "source": [
        "1. Write a Python program to check if the given number is a Disarium Number?\n"
      ],
      "metadata": {
        "id": "zmb5q7ROsYYp"
      }
    },
    {
      "cell_type": "code",
      "execution_count": 12,
      "metadata": {
        "id": "f7Dt6DWJsTn3",
        "colab": {
          "base_uri": "https://localhost:8080/"
        },
        "outputId": "75851a47-f485-4bdb-80c2-46dbf06003b3"
      },
      "outputs": [
        {
          "output_type": "stream",
          "name": "stdout",
          "text": [
            "Enter the number to check: 89\n",
            "Disarium Number\n"
          ]
        }
      ],
      "source": [
        "number = int(input(\"Enter the number to check: \"))\n",
        "newNum = number\n",
        "dam = 0\n",
        "x = len(str(number))\n",
        "while newNum%10 > 0:\n",
        "  dam += int(newNum%10)**x\n",
        "  newNum = int(newNum/10)\n",
        "  x-=1\n",
        "\n",
        "\n",
        "if dam == number:\n",
        "  print(\"Disarium Number\")\n",
        "else:\n",
        "  print(\"Not a Disarium Number\")"
      ]
    },
    {
      "cell_type": "markdown",
      "source": [
        "2. Write a Python program to print all disarium numbers between 1 to 100?\n"
      ],
      "metadata": {
        "id": "92RieIoRtcmq"
      }
    },
    {
      "cell_type": "code",
      "source": [
        "def checkDisarium(number):\n",
        "  newNum = number\n",
        "  dam = 0\n",
        "  x = len(str(number))\n",
        "  while newNum%10 > 0:\n",
        "    dam += int(newNum%10)**x\n",
        "    newNum = int(newNum/10)\n",
        "    x-=1\n",
        "\n",
        "\n",
        "  if dam == number:\n",
        "    return \"a Disarium Number\"\n",
        "  else:\n",
        "    return \"not a Disarium Number\"\n",
        "\n",
        "\n",
        "for i in range(1,101):\n",
        "  print(f\"{i} is {checkDisarium(i)}.\")"
      ],
      "metadata": {
        "colab": {
          "base_uri": "https://localhost:8080/"
        },
        "id": "fMGwJvEgtdv4",
        "outputId": "e3ffb8f0-1eae-4e87-9739-16912bf67531"
      },
      "execution_count": 13,
      "outputs": [
        {
          "output_type": "stream",
          "name": "stdout",
          "text": [
            "1 is a Disarium Number.\n",
            "2 is a Disarium Number.\n",
            "3 is a Disarium Number.\n",
            "4 is a Disarium Number.\n",
            "5 is a Disarium Number.\n",
            "6 is a Disarium Number.\n",
            "7 is a Disarium Number.\n",
            "8 is a Disarium Number.\n",
            "9 is a Disarium Number.\n",
            "10 is not a Disarium Number.\n",
            "11 is not a Disarium Number.\n",
            "12 is not a Disarium Number.\n",
            "13 is not a Disarium Number.\n",
            "14 is not a Disarium Number.\n",
            "15 is not a Disarium Number.\n",
            "16 is not a Disarium Number.\n",
            "17 is not a Disarium Number.\n",
            "18 is not a Disarium Number.\n",
            "19 is not a Disarium Number.\n",
            "20 is not a Disarium Number.\n",
            "21 is not a Disarium Number.\n",
            "22 is not a Disarium Number.\n",
            "23 is not a Disarium Number.\n",
            "24 is not a Disarium Number.\n",
            "25 is not a Disarium Number.\n",
            "26 is not a Disarium Number.\n",
            "27 is not a Disarium Number.\n",
            "28 is not a Disarium Number.\n",
            "29 is not a Disarium Number.\n",
            "30 is not a Disarium Number.\n",
            "31 is not a Disarium Number.\n",
            "32 is not a Disarium Number.\n",
            "33 is not a Disarium Number.\n",
            "34 is not a Disarium Number.\n",
            "35 is not a Disarium Number.\n",
            "36 is not a Disarium Number.\n",
            "37 is not a Disarium Number.\n",
            "38 is not a Disarium Number.\n",
            "39 is not a Disarium Number.\n",
            "40 is not a Disarium Number.\n",
            "41 is not a Disarium Number.\n",
            "42 is not a Disarium Number.\n",
            "43 is not a Disarium Number.\n",
            "44 is not a Disarium Number.\n",
            "45 is not a Disarium Number.\n",
            "46 is not a Disarium Number.\n",
            "47 is not a Disarium Number.\n",
            "48 is not a Disarium Number.\n",
            "49 is not a Disarium Number.\n",
            "50 is not a Disarium Number.\n",
            "51 is not a Disarium Number.\n",
            "52 is not a Disarium Number.\n",
            "53 is not a Disarium Number.\n",
            "54 is not a Disarium Number.\n",
            "55 is not a Disarium Number.\n",
            "56 is not a Disarium Number.\n",
            "57 is not a Disarium Number.\n",
            "58 is not a Disarium Number.\n",
            "59 is not a Disarium Number.\n",
            "60 is not a Disarium Number.\n",
            "61 is not a Disarium Number.\n",
            "62 is not a Disarium Number.\n",
            "63 is not a Disarium Number.\n",
            "64 is not a Disarium Number.\n",
            "65 is not a Disarium Number.\n",
            "66 is not a Disarium Number.\n",
            "67 is not a Disarium Number.\n",
            "68 is not a Disarium Number.\n",
            "69 is not a Disarium Number.\n",
            "70 is not a Disarium Number.\n",
            "71 is not a Disarium Number.\n",
            "72 is not a Disarium Number.\n",
            "73 is not a Disarium Number.\n",
            "74 is not a Disarium Number.\n",
            "75 is not a Disarium Number.\n",
            "76 is not a Disarium Number.\n",
            "77 is not a Disarium Number.\n",
            "78 is not a Disarium Number.\n",
            "79 is not a Disarium Number.\n",
            "80 is not a Disarium Number.\n",
            "81 is not a Disarium Number.\n",
            "82 is not a Disarium Number.\n",
            "83 is not a Disarium Number.\n",
            "84 is not a Disarium Number.\n",
            "85 is not a Disarium Number.\n",
            "86 is not a Disarium Number.\n",
            "87 is not a Disarium Number.\n",
            "88 is not a Disarium Number.\n",
            "89 is a Disarium Number.\n",
            "90 is not a Disarium Number.\n",
            "91 is not a Disarium Number.\n",
            "92 is not a Disarium Number.\n",
            "93 is not a Disarium Number.\n",
            "94 is not a Disarium Number.\n",
            "95 is not a Disarium Number.\n",
            "96 is not a Disarium Number.\n",
            "97 is not a Disarium Number.\n",
            "98 is not a Disarium Number.\n",
            "99 is not a Disarium Number.\n",
            "100 is not a Disarium Number.\n"
          ]
        }
      ]
    },
    {
      "cell_type": "markdown",
      "source": [
        "3. Write a Python program to check if the given number is Happy Number?"
      ],
      "metadata": {
        "id": "edPn61iQuGJd"
      }
    },
    {
      "cell_type": "code",
      "source": [
        "def numSquareSum(n):\n",
        "    squareSum = 0\n",
        "    while(n):\n",
        "        squareSum += (n % 10) * (n % 10)\n",
        "        n = int(n / 10)\n",
        "    return squareSum\n",
        "\n",
        "def isHappynumber(n):\n",
        "    slow = n\n",
        "    fast = n\n",
        "    while(True):\n",
        "        slow = numSquareSum(slow)\n",
        "        fast = numSquareSum(numSquareSum(fast))\n",
        "        if(slow != fast):\n",
        "            continue\n",
        "        else:\n",
        "            break\n",
        "    return (slow == 1)\n",
        "\n",
        "n = int(input(\"Enter the number:- \"))\n",
        "if (isHappynumber(n)):\n",
        "    print(n , \"is a Happy number\")\n",
        "else:\n",
        "    print(n , \"is not a Happy number\")\n"
      ],
      "metadata": {
        "colab": {
          "base_uri": "https://localhost:8080/"
        },
        "id": "U6ITIA2puLYv",
        "outputId": "7fb2dbf0-d9fb-48aa-f29a-4a540df29dc5"
      },
      "execution_count": 15,
      "outputs": [
        {
          "output_type": "stream",
          "name": "stdout",
          "text": [
            "Enter the number:- 7\n",
            "7 is a Happy number\n"
          ]
        }
      ]
    },
    {
      "cell_type": "markdown",
      "source": [
        "4. Write a Python program to print all happy numbers between 1 and 100?\n"
      ],
      "metadata": {
        "id": "pkVL-gTi5CqU"
      }
    },
    {
      "cell_type": "code",
      "source": [
        "for i in range(1,101):\n",
        "  hpyNum = isHappynumber(n)\n",
        "  print(f\"{i} is a {'Happy Number' if isHappynumber(i) else 'not Happy Number'}\")"
      ],
      "metadata": {
        "colab": {
          "base_uri": "https://localhost:8080/"
        },
        "id": "kq_kiFpo5Esf",
        "outputId": "dd9dec9e-6777-4e4f-e852-3d85f7b86291"
      },
      "execution_count": 16,
      "outputs": [
        {
          "output_type": "stream",
          "name": "stdout",
          "text": [
            "1 is a Happy Number\n",
            "2 is a not Happy Number\n",
            "3 is a not Happy Number\n",
            "4 is a not Happy Number\n",
            "5 is a not Happy Number\n",
            "6 is a not Happy Number\n",
            "7 is a Happy Number\n",
            "8 is a not Happy Number\n",
            "9 is a not Happy Number\n",
            "10 is a Happy Number\n",
            "11 is a not Happy Number\n",
            "12 is a not Happy Number\n",
            "13 is a Happy Number\n",
            "14 is a not Happy Number\n",
            "15 is a not Happy Number\n",
            "16 is a not Happy Number\n",
            "17 is a not Happy Number\n",
            "18 is a not Happy Number\n",
            "19 is a Happy Number\n",
            "20 is a not Happy Number\n",
            "21 is a not Happy Number\n",
            "22 is a not Happy Number\n",
            "23 is a Happy Number\n",
            "24 is a not Happy Number\n",
            "25 is a not Happy Number\n",
            "26 is a not Happy Number\n",
            "27 is a not Happy Number\n",
            "28 is a Happy Number\n",
            "29 is a not Happy Number\n",
            "30 is a not Happy Number\n",
            "31 is a Happy Number\n",
            "32 is a Happy Number\n",
            "33 is a not Happy Number\n",
            "34 is a not Happy Number\n",
            "35 is a not Happy Number\n",
            "36 is a not Happy Number\n",
            "37 is a not Happy Number\n",
            "38 is a not Happy Number\n",
            "39 is a not Happy Number\n",
            "40 is a not Happy Number\n",
            "41 is a not Happy Number\n",
            "42 is a not Happy Number\n",
            "43 is a not Happy Number\n",
            "44 is a Happy Number\n",
            "45 is a not Happy Number\n",
            "46 is a not Happy Number\n",
            "47 is a not Happy Number\n",
            "48 is a not Happy Number\n",
            "49 is a Happy Number\n",
            "50 is a not Happy Number\n",
            "51 is a not Happy Number\n",
            "52 is a not Happy Number\n",
            "53 is a not Happy Number\n",
            "54 is a not Happy Number\n",
            "55 is a not Happy Number\n",
            "56 is a not Happy Number\n",
            "57 is a not Happy Number\n",
            "58 is a not Happy Number\n",
            "59 is a not Happy Number\n",
            "60 is a not Happy Number\n",
            "61 is a not Happy Number\n",
            "62 is a not Happy Number\n",
            "63 is a not Happy Number\n",
            "64 is a not Happy Number\n",
            "65 is a not Happy Number\n",
            "66 is a not Happy Number\n",
            "67 is a not Happy Number\n",
            "68 is a Happy Number\n",
            "69 is a not Happy Number\n",
            "70 is a Happy Number\n",
            "71 is a not Happy Number\n",
            "72 is a not Happy Number\n",
            "73 is a not Happy Number\n",
            "74 is a not Happy Number\n",
            "75 is a not Happy Number\n",
            "76 is a not Happy Number\n",
            "77 is a not Happy Number\n",
            "78 is a not Happy Number\n",
            "79 is a Happy Number\n",
            "80 is a not Happy Number\n",
            "81 is a not Happy Number\n",
            "82 is a Happy Number\n",
            "83 is a not Happy Number\n",
            "84 is a not Happy Number\n",
            "85 is a not Happy Number\n",
            "86 is a Happy Number\n",
            "87 is a not Happy Number\n",
            "88 is a not Happy Number\n",
            "89 is a not Happy Number\n",
            "90 is a not Happy Number\n",
            "91 is a Happy Number\n",
            "92 is a not Happy Number\n",
            "93 is a not Happy Number\n",
            "94 is a Happy Number\n",
            "95 is a not Happy Number\n",
            "96 is a not Happy Number\n",
            "97 is a Happy Number\n",
            "98 is a not Happy Number\n",
            "99 is a not Happy Number\n",
            "100 is a Happy Number\n"
          ]
        }
      ]
    },
    {
      "cell_type": "markdown",
      "source": [
        "5. Write a Python program to determine whether the given number is a Harshad Number?"
      ],
      "metadata": {
        "id": "g1m1D2W06L1L"
      }
    },
    {
      "cell_type": "code",
      "source": [
        "def checkHarshad(number):\n",
        "  newNum = number\n",
        "  dam = 0\n",
        "\n",
        "  while newNum%10 == 0:\n",
        "    newNum = newNum/10\n",
        "\n",
        "  while newNum%10 > 0:\n",
        "    \n",
        "    dam += int(newNum%10)\n",
        "\n",
        "    newNum = int(newNum/10)\n",
        "  \n",
        "\n",
        "    \n",
        "  return number%dam == 0\n",
        "\n",
        "i = int(input(\"Enter the Number: \"))\n",
        "print(f\"{i} is {'Harshad Number' if checkHarshad(i) else 'not a Harshad Number'}.\") "
      ],
      "metadata": {
        "colab": {
          "base_uri": "https://localhost:8080/"
        },
        "id": "IYDGLNTH6ONM",
        "outputId": "810ffe04-a98c-4b1f-fa4c-ffcf862e21d9"
      },
      "execution_count": 27,
      "outputs": [
        {
          "output_type": "stream",
          "name": "stdout",
          "text": [
            "Enter the Number: 10\n",
            "10 is Harshad Number.\n"
          ]
        }
      ]
    },
    {
      "cell_type": "markdown",
      "source": [
        "\n",
        "\n",
        "6. Write a Python program to print all pronic numbers between 1 and 100?"
      ],
      "metadata": {
        "id": "KhSoG348q2AX"
      }
    },
    {
      "cell_type": "code",
      "source": [
        "def checkPronic(number):\n",
        "  for i in range(1,int((number/2))):\n",
        "    if (i * (i+1)) == number:\n",
        "      return True\n",
        "  return False\n",
        "\n",
        "for i in range(1,101):\n",
        "  print(f\"{i} is {'Pronic Number' if checkPronic(i) else 'not a Pronic Number'}.\") "
      ],
      "metadata": {
        "colab": {
          "base_uri": "https://localhost:8080/"
        },
        "id": "aVstzttPtMN2",
        "outputId": "72538497-aba9-4cbe-88df-6b0f842cd4e4"
      },
      "execution_count": 31,
      "outputs": [
        {
          "output_type": "stream",
          "name": "stdout",
          "text": [
            "1 is not a Pronic Number.\n",
            "2 is not a Pronic Number.\n",
            "3 is not a Pronic Number.\n",
            "4 is not a Pronic Number.\n",
            "5 is not a Pronic Number.\n",
            "6 is Pronic Number.\n",
            "7 is not a Pronic Number.\n",
            "8 is not a Pronic Number.\n",
            "9 is not a Pronic Number.\n",
            "10 is not a Pronic Number.\n",
            "11 is not a Pronic Number.\n",
            "12 is Pronic Number.\n",
            "13 is not a Pronic Number.\n",
            "14 is not a Pronic Number.\n",
            "15 is not a Pronic Number.\n",
            "16 is not a Pronic Number.\n",
            "17 is not a Pronic Number.\n",
            "18 is not a Pronic Number.\n",
            "19 is not a Pronic Number.\n",
            "20 is Pronic Number.\n",
            "21 is not a Pronic Number.\n",
            "22 is not a Pronic Number.\n",
            "23 is not a Pronic Number.\n",
            "24 is not a Pronic Number.\n",
            "25 is not a Pronic Number.\n",
            "26 is not a Pronic Number.\n",
            "27 is not a Pronic Number.\n",
            "28 is not a Pronic Number.\n",
            "29 is not a Pronic Number.\n",
            "30 is Pronic Number.\n",
            "31 is not a Pronic Number.\n",
            "32 is not a Pronic Number.\n",
            "33 is not a Pronic Number.\n",
            "34 is not a Pronic Number.\n",
            "35 is not a Pronic Number.\n",
            "36 is not a Pronic Number.\n",
            "37 is not a Pronic Number.\n",
            "38 is not a Pronic Number.\n",
            "39 is not a Pronic Number.\n",
            "40 is not a Pronic Number.\n",
            "41 is not a Pronic Number.\n",
            "42 is Pronic Number.\n",
            "43 is not a Pronic Number.\n",
            "44 is not a Pronic Number.\n",
            "45 is not a Pronic Number.\n",
            "46 is not a Pronic Number.\n",
            "47 is not a Pronic Number.\n",
            "48 is not a Pronic Number.\n",
            "49 is not a Pronic Number.\n",
            "50 is not a Pronic Number.\n",
            "51 is not a Pronic Number.\n",
            "52 is not a Pronic Number.\n",
            "53 is not a Pronic Number.\n",
            "54 is not a Pronic Number.\n",
            "55 is not a Pronic Number.\n",
            "56 is Pronic Number.\n",
            "57 is not a Pronic Number.\n",
            "58 is not a Pronic Number.\n",
            "59 is not a Pronic Number.\n",
            "60 is not a Pronic Number.\n",
            "61 is not a Pronic Number.\n",
            "62 is not a Pronic Number.\n",
            "63 is not a Pronic Number.\n",
            "64 is not a Pronic Number.\n",
            "65 is not a Pronic Number.\n",
            "66 is not a Pronic Number.\n",
            "67 is not a Pronic Number.\n",
            "68 is not a Pronic Number.\n",
            "69 is not a Pronic Number.\n",
            "70 is not a Pronic Number.\n",
            "71 is not a Pronic Number.\n",
            "72 is Pronic Number.\n",
            "73 is not a Pronic Number.\n",
            "74 is not a Pronic Number.\n",
            "75 is not a Pronic Number.\n",
            "76 is not a Pronic Number.\n",
            "77 is not a Pronic Number.\n",
            "78 is not a Pronic Number.\n",
            "79 is not a Pronic Number.\n",
            "80 is not a Pronic Number.\n",
            "81 is not a Pronic Number.\n",
            "82 is not a Pronic Number.\n",
            "83 is not a Pronic Number.\n",
            "84 is not a Pronic Number.\n",
            "85 is not a Pronic Number.\n",
            "86 is not a Pronic Number.\n",
            "87 is not a Pronic Number.\n",
            "88 is not a Pronic Number.\n",
            "89 is not a Pronic Number.\n",
            "90 is Pronic Number.\n",
            "91 is not a Pronic Number.\n",
            "92 is not a Pronic Number.\n",
            "93 is not a Pronic Number.\n",
            "94 is not a Pronic Number.\n",
            "95 is not a Pronic Number.\n",
            "96 is not a Pronic Number.\n",
            "97 is not a Pronic Number.\n",
            "98 is not a Pronic Number.\n",
            "99 is not a Pronic Number.\n",
            "100 is not a Pronic Number.\n"
          ]
        }
      ]
    }
  ]
}