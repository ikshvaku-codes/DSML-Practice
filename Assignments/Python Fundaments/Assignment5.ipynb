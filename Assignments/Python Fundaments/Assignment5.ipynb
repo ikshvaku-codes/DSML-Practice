{
  "nbformat": 4,
  "nbformat_minor": 0,
  "metadata": {
    "colab": {
      "provenance": []
    },
    "kernelspec": {
      "name": "python3",
      "display_name": "Python 3"
    },
    "language_info": {
      "name": "python"
    }
  },
  "cells": [
    {
      "cell_type": "markdown",
      "source": [
        "1. What does an empty dictionary&#39;s code look like?\n",
        "---\n",
        "* emptyDict = {} #Empty Dictionary\n",
        "---\n",
        "---\n",
        "2. What is the value of a dictionary value with the key &#39;foo&#39; and the value 42?\n",
        "---\n",
        "* dic = {\"foo\":42}\n",
        "---\n",
        "---\n",
        "3. What is the most significant distinction between a dictionary and a list?\n",
        "---\n",
        "* A list in an order, indexed collection of elements of different types.\n",
        "* A dictionary is an unordered collection of key-value pair\n",
        "---\n",
        "---\n",
        "4. What happens if you try to access spam[&#39;foo&#39;] if spam is {&#39;bar&#39;: 100}?\n",
        "---\n",
        "* As dictionary doesn't have any key named \"foo\", so it will throw a keyerror.\n",
        "---\n",
        "---\n",
        "5. If a dictionary is stored in spam, what is the difference between the expressions &#39;cat&#39; in spam and\n",
        "&#39;cat&#39; in spam.keys()?\n",
        "---\n",
        "* They both will work exactly same.\n",
        "---\n",
        "---\n",
        "6. If a dictionary is stored in spam, what is the difference between the expressions &#39;cat&#39; in spam and\n",
        "&#39;cat&#39; in spam.values()?\n",
        "---\n",
        "* 'cat' in spam : will check in keys\n",
        "* 'cat' in spam.values(): will check in values\n",
        "---\n",
        "---  \n",
        "7. What is a shortcut for the following code?\n",
        "if &#39;color&#39; not in spam:\n",
        "spam[&#39;color&#39;] = &#39;black&#39;\n",
        "---\n",
        "* spam.setdefault('color','black')\n",
        "---\n",
        "---\n",
        "8. How do you &quot;pretty print&quot; dictionary values using which module and function?\n",
        "---\n",
        "* Module to use is pprint\n",
        "* functions to use pprint(), pformat()\n",
        "* eg:\n",
        "  * import pprint\n",
        "  * print(pprint.pformat(dictionary))"
      ],
      "metadata": {
        "id": "Coy5Pn1Z1DNd"
      }
    },
    {
      "cell_type": "code",
      "execution_count": 12,
      "metadata": {
        "colab": {
          "base_uri": "https://localhost:8080/"
        },
        "id": "7okV-s4g0_Bb",
        "outputId": "96cc49fa-5d7f-4faf-c57e-2e344a1a79dd"
      },
      "outputs": [
        {
          "output_type": "stream",
          "name": "stdout",
          "text": [
            "{5: 6, 9: 33, 50: {6: 3, 9: 5}, 100: [5, 6, 1, 5, 6]}\n"
          ]
        }
      ],
      "source": [
        "import pprint\n",
        "s = {5:6,9:33, 50:{6:3,9:5}, 100:[5,6,1,5,6]}\n",
        "pprint.pprint(s)\n"
      ]
    }
  ]
}