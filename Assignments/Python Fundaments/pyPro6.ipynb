{
  "nbformat": 4,
  "nbformat_minor": 0,
  "metadata": {
    "colab": {
      "provenance": []
    },
    "kernelspec": {
      "name": "python3",
      "display_name": "Python 3"
    },
    "language_info": {
      "name": "python"
    }
  },
  "cells": [
    {
      "cell_type": "markdown",
      "source": [
        "1. Write a Python Program to Display Fibonacci Sequence Using Recursion?\n"
      ],
      "metadata": {
        "id": "iVBPRHRJVrRd"
      }
    },
    {
      "cell_type": "code",
      "source": [
        "\n",
        "def fib(n, fibs):\n",
        "  temp = fibs[len(fibs)-1]\n",
        "  second = fibs[len(fibs)-2]+fibs[len(fibs)-1]\n",
        "  first = temp\n",
        "  if len(fibs) <= n:\n",
        "    fibs.append(second)\n",
        "    fib(n, fibs)\n",
        "    \n",
        "number = int(input(\"Enter the number of element in Fibb Series: \"))\n",
        "fibs = [0,1]\n",
        "fib(number,fibs)\n",
        "print(fibs)"
      ],
      "metadata": {
        "colab": {
          "base_uri": "https://localhost:8080/"
        },
        "id": "dvObaukiV3LG",
        "outputId": "88fb415e-e729-4b8c-b449-67ca7276c524"
      },
      "execution_count": 5,
      "outputs": [
        {
          "output_type": "stream",
          "name": "stdout",
          "text": [
            "Enter the number of element in Fibb Series: 25\n",
            "[0, 1, 1, 2, 3, 5, 8, 13, 21, 34, 55, 89, 144, 233, 377, 610, 987, 1597, 2584, 4181, 6765, 10946, 17711, 28657, 46368, 75025]\n"
          ]
        }
      ]
    },
    {
      "cell_type": "markdown",
      "source": [
        "2. Write a Python Program to Find Factorial of Number Using Recursion?\n"
      ],
      "metadata": {
        "id": "L4KkpJ11Vw27"
      }
    },
    {
      "cell_type": "code",
      "source": [
        "def factorial(n):\n",
        "  if n > 0:\n",
        "    return n * factorial(n-1)\n",
        "  else:\n",
        "    return 1\n",
        "    \n",
        "number = int(input(\"Enter the number of element in Fibb Series: \"))\n",
        "\n",
        "print(factorial(number))"
      ],
      "metadata": {
        "colab": {
          "base_uri": "https://localhost:8080/"
        },
        "id": "v0fGRylcY00E",
        "outputId": "e756ec37-c758-4291-dbac-784e9b2da03f"
      },
      "execution_count": 6,
      "outputs": [
        {
          "output_type": "stream",
          "name": "stdout",
          "text": [
            "Enter the number of element in Fibb Series: 5\n",
            "120\n"
          ]
        }
      ]
    },
    {
      "cell_type": "markdown",
      "source": [
        "3. Write a Python Program to calculate your Body Mass Index?\n"
      ],
      "metadata": {
        "id": "YCdC8-VeVyi4"
      }
    },
    {
      "cell_type": "code",
      "source": [
        "weight = float(input(\"Enter the weight(in Kgs): \"))\n",
        "\n",
        "height = float(input(\"Enter the height(in m): \"))\n",
        "print(weight/(height**2))"
      ],
      "metadata": {
        "colab": {
          "base_uri": "https://localhost:8080/"
        },
        "id": "R12nh_KgZkk6",
        "outputId": "2d743dfb-b164-4b1c-a480-acd91c56f42f"
      },
      "execution_count": 9,
      "outputs": [
        {
          "output_type": "stream",
          "name": "stdout",
          "text": [
            "Enter the weight(in Kgs): 75\n",
            "Enter the height(in m): 1.77\n",
            "23.93948099205209\n"
          ]
        }
      ]
    },
    {
      "cell_type": "markdown",
      "source": [
        "4. Write a Python Program to calculate the natural logarithm of any number?\n"
      ],
      "metadata": {
        "id": "SR1oDh7xV0Un"
      }
    },
    {
      "cell_type": "code",
      "source": [
        "import math\n",
        "number = int(input(\"Enter the number: \"))\n",
        "\n",
        "print(f\"Log of {number} is: {math.log(number)}\")"
      ],
      "metadata": {
        "colab": {
          "base_uri": "https://localhost:8080/"
        },
        "id": "xdf0JRFEa26K",
        "outputId": "929722f0-d0eb-4517-c148-b59cb0f1a54d"
      },
      "execution_count": 10,
      "outputs": [
        {
          "output_type": "stream",
          "name": "stdout",
          "text": [
            "Enter the number: 25\n",
            "Log of 25 is: 3.2188758248682006\n"
          ]
        }
      ]
    },
    {
      "cell_type": "markdown",
      "source": [
        "5. Write a Python Program for cube sum of first n natural numbers?"
      ],
      "metadata": {
        "id": "AkRkZhiaV2IJ"
      }
    },
    {
      "cell_type": "code",
      "execution_count": 11,
      "metadata": {
        "colab": {
          "base_uri": "https://localhost:8080/"
        },
        "id": "_zIC4nLaFzA9",
        "outputId": "718d264d-a7ed-46ae-ab2a-25c612324e2a"
      },
      "outputs": [
        {
          "output_type": "stream",
          "name": "stdout",
          "text": [
            "Enter the value of n: 3\n",
            "36\n"
          ]
        }
      ],
      "source": [
        "number = int(input(\"Enter the value of n: \"))\n",
        "sum = 0\n",
        "for i in range(1, number+1):\n",
        "  sum+= i**3\n",
        "print(sum)"
      ]
    }
  ]
}