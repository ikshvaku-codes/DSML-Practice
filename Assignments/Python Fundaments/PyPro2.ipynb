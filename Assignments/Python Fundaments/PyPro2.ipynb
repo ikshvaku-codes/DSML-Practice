{
  "nbformat": 4,
  "nbformat_minor": 0,
  "metadata": {
    "colab": {
      "provenance": []
    },
    "kernelspec": {
      "name": "python3",
      "display_name": "Python 3"
    },
    "language_info": {
      "name": "python"
    }
  },
  "cells": [
    {
      "cell_type": "markdown",
      "source": [
        "1. Write a Python program to convert kilometers to miles?\n"
      ],
      "metadata": {
        "id": "E4tUWAvR9W6c"
      }
    },
    {
      "cell_type": "code",
      "execution_count": 1,
      "metadata": {
        "colab": {
          "base_uri": "https://localhost:8080/"
        },
        "id": "9P3YB1jt9UEK",
        "outputId": "c5f354c4-e5f5-462c-bc59-15f03b0a5cb3"
      },
      "outputs": [
        {
          "output_type": "stream",
          "name": "stdout",
          "text": [
            "15.532499999999999\n"
          ]
        }
      ],
      "source": [
        "def km2Miles(km):\n",
        "  return km*0.6213\n",
        "\n",
        "valueInKM = int(input(\"Enter Value in KM: \"))\n",
        "valueInMile = km2Miles(valueInKM)\n",
        "print(valueInMile)"
      ]
    },
    {
      "cell_type": "markdown",
      "source": [
        "2. Write a Python program to convert Celsius to Fahrenheit?\n"
      ],
      "metadata": {
        "id": "MmqBDm779Z5u"
      }
    },
    {
      "cell_type": "code",
      "source": [
        "def c2f(c):\n",
        "  return (c*9/5) + 32\n",
        "\n",
        "valueInC = int(input(\"Enter Value in Celcius: \"))\n",
        "valueInF = c2f(valueInC)\n",
        "print(valueInF)"
      ],
      "metadata": {
        "colab": {
          "base_uri": "https://localhost:8080/"
        },
        "id": "3FO66h3f94kh",
        "outputId": "28210741-30ef-40d7-f925-e1e2ad622f5c"
      },
      "execution_count": 2,
      "outputs": [
        {
          "output_type": "stream",
          "name": "stdout",
          "text": [
            "77.0\n"
          ]
        }
      ]
    },
    {
      "cell_type": "markdown",
      "source": [
        "3. Write a Python program to display calendar?\n"
      ],
      "metadata": {
        "id": "Mk5U-QTJ9cq7"
      }
    },
    {
      "cell_type": "code",
      "source": [
        "import calendar\n",
        "def displayCalenderOf(mm, yy):\n",
        "  return calendar.month(yy,mm)\n",
        "\n",
        "month = int(input(\"Enter month: \"))\n",
        "year = int(input(\"Enter Year: \"))\n",
        "\n",
        "print(displayCalenderOf(month, year))"
      ],
      "metadata": {
        "colab": {
          "base_uri": "https://localhost:8080/"
        },
        "id": "izf6PJ2e-NcF",
        "outputId": "1cb4fe4e-7687-43e5-e37e-7487ee0e0223"
      },
      "execution_count": 4,
      "outputs": [
        {
          "output_type": "stream",
          "name": "stdout",
          "text": [
            "Enter month: 5\n",
            "Enter Year: 2022\n",
            "      May 2022\n",
            "Mo Tu We Th Fr Sa Su\n",
            "                   1\n",
            " 2  3  4  5  6  7  8\n",
            " 9 10 11 12 13 14 15\n",
            "16 17 18 19 20 21 22\n",
            "23 24 25 26 27 28 29\n",
            "30 31\n",
            "\n"
          ]
        }
      ]
    },
    {
      "cell_type": "markdown",
      "source": [
        "4. Write a Python program to solve quadratic equation?\n"
      ],
      "metadata": {
        "id": "zTaI7e8S9eNe"
      }
    },
    {
      "cell_type": "code",
      "source": [
        "import math\n",
        "def solveQuad(coffOfSq, coffOfvar, const):\n",
        "  d = (coffOfvar**2 - (4*coffOfSq*const))**0.5\n",
        "  x1 = (-coffOfvar + d)/2*coffOfSq\n",
        "  x2 = (-coffOfvar - d)/2*coffOfSq\n",
        "  return x1, x2\n",
        "\n",
        "coffOfSq, coffOfvar, const = int(input(\"Enter Value of a: \")), int(input(\"Enter Value of b: \")), int(input(\"Enter Value of c: \"))\n",
        "\n",
        "x1, x2 = solveQuad(coffOfSq, coffOfvar, const)\n",
        "\n",
        "print(f\"Solutions for the given equation, {coffOfSq}x*x + ({coffOfvar}x) + ({const}) are: {x1}, {x2}\")"
      ],
      "metadata": {
        "colab": {
          "base_uri": "https://localhost:8080/"
        },
        "id": "itaJEwkr_Azl",
        "outputId": "bcc0dc0b-53c9-47f4-e341-f2c4f3eea7c7"
      },
      "execution_count": 6,
      "outputs": [
        {
          "output_type": "stream",
          "name": "stdout",
          "text": [
            "Enter Value of a: 5\n",
            "Enter Value of b: 4\n",
            "Enter Value of c: -9\n",
            "Solutions for the given equation, 5x*x + (4x) + (-9) are: 25.0, -45.0\n"
          ]
        }
      ]
    },
    {
      "cell_type": "markdown",
      "source": [
        "5. Write a Python program to swap two variables without temp variable?"
      ],
      "metadata": {
        "id": "mQZyVSTQ9f0A"
      }
    },
    {
      "cell_type": "code",
      "source": [
        "def swap(a,b):\n",
        "  return b,a\n",
        "\n",
        "a,b = int(input(\"Enter Value of a: \")), int(input(\"Enter Value of b: \"))\n",
        "print(f\"before swaping:\\n\\ta: {a}\\n\\tb: {b}\")\n",
        "a,b = swap(a,b)\n",
        "print(f\"after swaping:\\n\\ta: {a}\\n\\tb: {b}\")"
      ],
      "metadata": {
        "colab": {
          "base_uri": "https://localhost:8080/"
        },
        "id": "RHncDtWRBF9i",
        "outputId": "f3faab0c-0cfc-45c5-9223-e40c5451ea9f"
      },
      "execution_count": 7,
      "outputs": [
        {
          "output_type": "stream",
          "name": "stdout",
          "text": [
            "Enter Value of a: 5\n",
            "Enter Value of b: 10\n",
            "before swaping:\n",
            "\ta: 5\n",
            "\tb: 10\n",
            "after swaping:\n",
            "\ta: 10\n",
            "\tb: 5\n"
          ]
        }
      ]
    }
  ]
}