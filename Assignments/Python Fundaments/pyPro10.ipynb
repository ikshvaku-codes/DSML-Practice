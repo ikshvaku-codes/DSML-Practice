{
  "nbformat": 4,
  "nbformat_minor": 0,
  "metadata": {
    "colab": {
      "provenance": []
    },
    "kernelspec": {
      "name": "python3",
      "display_name": "Python 3"
    },
    "language_info": {
      "name": "python"
    }
  },
  "cells": [
    {
      "cell_type": "markdown",
      "source": [
        "1. Write a Python program to find sum of elements in list?\n"
      ],
      "metadata": {
        "id": "8X5z_5rzbO8a"
      }
    },
    {
      "cell_type": "code",
      "source": [
        "a = input(\"Enter Space Seperated values to the list: \")\n",
        "\n",
        "def sumInList(a):  \n",
        "  sum = 0\n",
        "  try:\n",
        "    inList = a.split(\" \")\n",
        "    for i in inList:\n",
        "      sum+=float(i.strip())\n",
        "  except ValueError as e:\n",
        "    if a.strip() == \"\" :\n",
        "      print(\"Input is Empty try again\")\n",
        "      sum = sumInList(input(\"Enter Space Seperated values to the list: \"))\n",
        "      \n",
        "  finally:\n",
        "    return sum\n",
        "\n",
        "sumInList(a)"
      ],
      "metadata": {
        "colab": {
          "base_uri": "https://localhost:8080/"
        },
        "id": "ITOyHN9ObQGY",
        "outputId": "99b30fd9-af3d-4ecf-c401-eb11d5d8bc74"
      },
      "execution_count": 10,
      "outputs": [
        {
          "name": "stdout",
          "output_type": "stream",
          "text": [
            "Enter Space Seperated values to the list: \n",
            "Input is Empty try again\n",
            "Enter Space Seperated values to the list: 23\n"
          ]
        },
        {
          "output_type": "execute_result",
          "data": {
            "text/plain": [
              "23.0"
            ]
          },
          "metadata": {},
          "execution_count": 10
        }
      ]
    },
    {
      "cell_type": "markdown",
      "source": [
        "2. Write a Python program to Multiply all numbers in the list?"
      ],
      "metadata": {
        "id": "4jhGuLigeNNA"
      }
    },
    {
      "cell_type": "code",
      "source": [
        "a = input(\"Enter Space Seperated values to the list: \")\n",
        "\n",
        "def mulInList(a):  \n",
        "  prod = 1\n",
        "  try:\n",
        "    inList = a.split(\" \")\n",
        "    for i in inList:\n",
        "      prod*=float(i.strip())\n",
        "  except ValueError as e:\n",
        "    if a.strip() == \"\" :\n",
        "      print(\"Input is Empty try again\")\n",
        "      prod = mulInList(input(\"Enter Space Seperated values to the list: \"))\n",
        "      \n",
        "  finally:\n",
        "    return prod\n",
        "\n",
        "mulInList(a)"
      ],
      "metadata": {
        "colab": {
          "base_uri": "https://localhost:8080/"
        },
        "id": "LWyVzMdOeOF_",
        "outputId": "aa61decb-c8c1-4847-8854-2c8430a965f0"
      },
      "execution_count": 12,
      "outputs": [
        {
          "name": "stdout",
          "output_type": "stream",
          "text": [
            "Enter Space Seperated values to the list: \n",
            "Input is Empty try again\n",
            "Enter Space Seperated values to the list: 23 56 65 32\n"
          ]
        },
        {
          "output_type": "execute_result",
          "data": {
            "text/plain": [
              "2679040.0"
            ]
          },
          "metadata": {},
          "execution_count": 12
        }
      ]
    },
    {
      "cell_type": "markdown",
      "source": [
        "3. Write a Python program to find smallest number in a list?\n"
      ],
      "metadata": {
        "id": "MWmMR1uCe6y2"
      }
    },
    {
      "cell_type": "code",
      "source": [
        "a = input(\"Enter Space Seperated values to the list: \")\n",
        "\n",
        "def mulInList(a):  \n",
        "  prod = 1\n",
        "  inList = []\n",
        "  try:\n",
        "    inList = [ float(x.strip()) for x in a.split(\" \")]\n",
        "  except ValueError as e:\n",
        "    if a.strip() == \"\" :\n",
        "      print(\"Input is Empty try again\")\n",
        "      prod = mulInList(input(\"Enter Space Seperated values to the list: \"))\n",
        "    else:\n",
        "      print(\"Entered More than one Space between Values\")\n",
        "      prod = mulInList(input(\"Enter Space Seperated values to the list: \"))\n",
        "      \n",
        "  finally:\n",
        "    prod = min(inList)\n",
        "    return prod\n",
        "\n",
        "mulInList(a)"
      ],
      "metadata": {
        "colab": {
          "base_uri": "https://localhost:8080/"
        },
        "id": "1Y_mNVZse7b6",
        "outputId": "bc9e3785-9da5-42fe-9383-dc7187acebca"
      },
      "execution_count": 17,
      "outputs": [
        {
          "name": "stdout",
          "output_type": "stream",
          "text": [
            "Enter Space Seperated values to the list: 56 32 98 55\n"
          ]
        },
        {
          "output_type": "execute_result",
          "data": {
            "text/plain": [
              "32.0"
            ]
          },
          "metadata": {},
          "execution_count": 17
        }
      ]
    },
    {
      "cell_type": "markdown",
      "source": [
        "4. Write a Python program to find largest number in a list?\n"
      ],
      "metadata": {
        "id": "n4lt-GVUf7aS"
      }
    },
    {
      "cell_type": "code",
      "source": [
        "a  = input(\"Enter Space Seperated values to the list: \")\n",
        "\n",
        "def mulInList(a):  \n",
        "  prod = 1\n",
        "  inList = []\n",
        "  try:\n",
        "    inList = [ float(x.strip()) for x in a.split(\" \")]\n",
        "  except ValueError as e:\n",
        "    if a.strip() == \"\" :\n",
        "      print(\"Input is Empty try again\")\n",
        "      prod = mulInList(input(\"Enter Space Seperated values to the list: \"))\n",
        "    else:\n",
        "      print(\"Entered More than one Space between Values\")\n",
        "      prod = mulInList(input(\"Enter Space Seperated values to the list: \"))\n",
        "      \n",
        "  finally:\n",
        "    prod = max(inList)\n",
        "    return prod\n",
        "\n",
        "mulInList(a)"
      ],
      "metadata": {
        "colab": {
          "base_uri": "https://localhost:8080/"
        },
        "id": "H-OXSZJuf8Gl",
        "outputId": "cf46b39d-0965-4621-b566-cc9e510a0a96"
      },
      "execution_count": 18,
      "outputs": [
        {
          "name": "stdout",
          "output_type": "stream",
          "text": [
            "Enter Space Seperated values to the list: 56 36 589 45 358\n"
          ]
        },
        {
          "output_type": "execute_result",
          "data": {
            "text/plain": [
              "589.0"
            ]
          },
          "metadata": {},
          "execution_count": 18
        }
      ]
    },
    {
      "cell_type": "markdown",
      "source": [
        "5. Write a Python program to find second largest number in a list?\n"
      ],
      "metadata": {
        "id": "GL_aoDr-gJzk"
      }
    },
    {
      "cell_type": "code",
      "source": [
        "a  = input(\"Enter Space Seperated values to the list: \")\n",
        "\n",
        "def findSecondLargest(a):  \n",
        "  prod = 1\n",
        "  inList = []\n",
        "  try:\n",
        "    inList = [ float(x.strip()) for x in a.strip().split(\" \")]\n",
        "  except ValueError:\n",
        "    if a.strip() == \"\" :\n",
        "      print(\"Input is Empty try again\")\n",
        "      prod = findSecondLargest(input(\"Enter Space Seperated values to the list: \"))\n",
        "    else:\n",
        "      print(\"Entered More than one Space between Values\")\n",
        "      prod = findSecondLargest(input(\"Enter Space Seperated values to the list: \"))\n",
        "      \n",
        "  finally:\n",
        "    x= set(inList)\n",
        "    if len(x) == 1:\n",
        "      print(\"Given List have only one Distict Value\")\n",
        "\n",
        "      prod = findSecondLargest(input(\"Enter Space Seperated values to the list: \"))\n",
        "    else:\n",
        "      prod = sorted(list(x))[-2]\n",
        "    return prod\n",
        "\n",
        "findSecondLargest(a)"
      ],
      "metadata": {
        "colab": {
          "base_uri": "https://localhost:8080/"
        },
        "id": "XR4n07iEgHdL",
        "outputId": "57754523-8084-4a4b-9ae9-1b169dad000e"
      },
      "execution_count": 2,
      "outputs": [
        {
          "name": "stdout",
          "output_type": "stream",
          "text": [
            "Enter Space Seperated values to the list: 56\n",
            "Given List have only one Distict Value\n",
            "Enter Space Seperated values to the list: 25 65 98 36 45 23\n"
          ]
        },
        {
          "output_type": "execute_result",
          "data": {
            "text/plain": [
              "65.0"
            ]
          },
          "metadata": {},
          "execution_count": 2
        }
      ]
    },
    {
      "cell_type": "markdown",
      "source": [
        "6. Write a Python program to find N largest elements from a list?\n"
      ],
      "metadata": {
        "id": "JoIVzNhylpb7"
      }
    },
    {
      "cell_type": "code",
      "source": [
        "a  = input(\"Enter Space Seperated values to the list: \")\n",
        "n = int(input(\"Enter the value of n: \"))\n",
        "def findNLargest(a, n):  \n",
        "  prod = 1\n",
        "  inList = []\n",
        "  try:\n",
        "    inList = [ float(x.strip()) for x in a.split(\" \")]\n",
        "  except ValueError as e:\n",
        "    if a.strip() == \"\" :\n",
        "      print(\"Input is Empty try again\")\n",
        "      prod = findNLargest(input(\"Enter Space Seperated values to the list: \"), n)\n",
        "    else:\n",
        "      print(\"Entered More than one Space between Values\")\n",
        "      prod = findNLargest(input(\"Enter Space Seperated values to the list: \"), n)\n",
        "      \n",
        "  finally:\n",
        "    x= set(inList)\n",
        "    if len(x) < n:\n",
        "      print(\"Given n is greater than the number of distinct elements in given list\")\n",
        "      \n",
        "\n",
        "      prod = findNLargest(a, int(input(f\"Enter the value of n again(must be less than equal to {len(x)}): \")))\n",
        "    else:\n",
        "      prod = sorted(list(x))[-n]\n",
        "    \n",
        "    return prod\n",
        "\n",
        "findNLargest(a, n)"
      ],
      "metadata": {
        "colab": {
          "base_uri": "https://localhost:8080/"
        },
        "id": "VY2dQ_NqlqhB",
        "outputId": "ada33308-2cf7-4ba3-ce3c-e88970a69e22"
      },
      "execution_count": 7,
      "outputs": [
        {
          "name": "stdout",
          "output_type": "stream",
          "text": [
            "Enter Space Seperated values to the list: 56 69 85 36 78\n",
            "Enter the value of n: 9\n",
            "Given n is greater than the number of distinct elements in given list\n",
            "Enter the value of n again(must be less than equal to 5): 5\n"
          ]
        },
        {
          "output_type": "execute_result",
          "data": {
            "text/plain": [
              "36.0"
            ]
          },
          "metadata": {},
          "execution_count": 7
        }
      ]
    },
    {
      "cell_type": "markdown",
      "source": [
        "7. Write a Python program to print even numbers in a list?\n"
      ],
      "metadata": {
        "id": "DMAvy8tOeV5K"
      }
    },
    {
      "cell_type": "code",
      "source": [
        "a  = input(\"Enter Space Seperated values to the list: \")\n",
        "\n",
        "def findEven(a):  \n",
        "  prod = []\n",
        "  inList = []\n",
        "  try:\n",
        "    inList = [ float(x.strip()) for x in a.split(\" \")]\n",
        "  except ValueError as e:\n",
        "    if a.strip() == \"\" :\n",
        "      print(\"Input is Empty try again\")\n",
        "      prod = findEven(input(\"Enter Space Seperated values to the list: \"))\n",
        "    else:\n",
        "      print(\"Entered More than one Space between Values\")\n",
        "      prod = findEven(input(\"Enter Space Seperated values to the list: \"))\n",
        "      \n",
        "  finally:\n",
        "    for i in inList:\n",
        "      if i % 2 ==0:\n",
        "        prod.append(i)\n",
        "    \n",
        "    return prod\n",
        "\n",
        "findEven(a)"
      ],
      "metadata": {
        "colab": {
          "base_uri": "https://localhost:8080/"
        },
        "id": "JcRCLJvIeYVo",
        "outputId": "e546e100-ff7c-4dec-8e9b-6b036d7662a2"
      },
      "execution_count": 24,
      "outputs": [
        {
          "name": "stdout",
          "output_type": "stream",
          "text": [
            "Enter Space Seperated values to the list: 52 36 63 96 36 56 41 25 3 6 94\n"
          ]
        },
        {
          "output_type": "execute_result",
          "data": {
            "text/plain": [
              "[52.0, 36.0, 96.0, 36.0, 56.0, 6.0, 94.0]"
            ]
          },
          "metadata": {},
          "execution_count": 24
        }
      ]
    },
    {
      "cell_type": "markdown",
      "source": [
        "8. Write a Python program to print odd numbers in a List?\n"
      ],
      "metadata": {
        "id": "q55_uYg5e5kT"
      }
    },
    {
      "cell_type": "code",
      "execution_count": 9,
      "metadata": {
        "colab": {
          "base_uri": "https://localhost:8080/"
        },
        "id": "7couPZfZbKLw",
        "outputId": "079f3fae-c74f-4e45-a6e7-545d2cece0de"
      },
      "outputs": [
        {
          "name": "stdout",
          "output_type": "stream",
          "text": [
            "Enter Space Seperated values to the list: 52 36 63 96 36 56 41 25 3 6 94\n"
          ]
        },
        {
          "output_type": "execute_result",
          "data": {
            "text/plain": [
              "[63.0, 41.0, 25.0, 3.0]"
            ]
          },
          "metadata": {},
          "execution_count": 9
        }
      ],
      "source": [
        "a  = input(\"Enter Space Seperated values to the list: \")\n",
        "\n",
        "def findOdd(a):  \n",
        "  prod = []\n",
        "  inList = []\n",
        "  try:\n",
        "    inList = [ float(x.strip()) for x in a.split(\" \")]\n",
        "  except ValueError as e:\n",
        "    if a.strip() == \"\" :\n",
        "      print(\"Input is Empty try again\")\n",
        "      prod = findOdd(input(\"Enter Space Seperated values to the list: \"))\n",
        "    else:\n",
        "      print(\"Entered More than one Space between Values\")\n",
        "      prod = findOdd(input(\"Enter Space Seperated values to the list: \"))\n",
        "      \n",
        "  finally:\n",
        "    for i in inList:\n",
        "      if i % 2 != 0:\n",
        "        prod.append(i)\n",
        "    \n",
        "    return prod\n",
        "\n",
        "findOdd(a)"
      ]
    },
    {
      "cell_type": "markdown",
      "source": [
        "9. Write a Python program to Remove empty List from List?\n"
      ],
      "metadata": {
        "id": "ftmTQjx4fN3N"
      }
    },
    {
      "cell_type": "code",
      "source": [
        "\n",
        "def removeEmptyListFromList(a):  \n",
        "  prod = []\n",
        "  inList = []\n",
        "  try:\n",
        "    inList = a\n",
        "  except ValueError as e:\n",
        "    if a.strip() == \"\" :\n",
        "      print(\"Input is Empty try again\")\n",
        "      prod = removeEmptyListFromList(input(\"Enter Space Seperated values to the list: \"))\n",
        "    else:\n",
        "      print(\"Entered More than one Space between Values\")\n",
        "      prod = removeEmptyListFromList(input(\"Enter Space Seperated values to the list: \"))\n",
        "      \n",
        "  finally:\n",
        "    for i in inList:\n",
        "      if type(i) == list:\n",
        "        if len(i) == 0:\n",
        "          continue\n",
        "        else:\n",
        "          prod.append(i)\n",
        "      else:\n",
        "        prod.append(i)\n",
        "    \n",
        "    return prod\n",
        "\n",
        "removeEmptyListFromList([5,6,93,4,6,[],[569]])"
      ],
      "metadata": {
        "colab": {
          "base_uri": "https://localhost:8080/"
        },
        "id": "6C0IHNSKfQz3",
        "outputId": "221c7e75-c87a-461d-ae2d-5854e5924d2a"
      },
      "execution_count": 17,
      "outputs": [
        {
          "output_type": "execute_result",
          "data": {
            "text/plain": [
              "[5, 6, 93, 4, 6, [569]]"
            ]
          },
          "metadata": {},
          "execution_count": 17
        }
      ]
    },
    {
      "cell_type": "markdown",
      "source": [
        "10. Write a Python program to Cloning or Copying a list?\n"
      ],
      "metadata": {
        "id": "fCzqfWUkgdRJ"
      }
    },
    {
      "cell_type": "code",
      "source": [
        "def cloneList(l):\n",
        "  return l\n",
        "\n",
        "clnList = cloneList([5,6,9,3,7])\n",
        "clnList"
      ],
      "metadata": {
        "colab": {
          "base_uri": "https://localhost:8080/"
        },
        "id": "mlIbMO3egfOS",
        "outputId": "2c5f2071-84cd-436b-9b80-85f7e92ac43b"
      },
      "execution_count": 18,
      "outputs": [
        {
          "output_type": "execute_result",
          "data": {
            "text/plain": [
              "[5, 6, 9, 3, 7]"
            ]
          },
          "metadata": {},
          "execution_count": 18
        }
      ]
    },
    {
      "cell_type": "markdown",
      "source": [
        "\n",
        "11. Write a Python program to Count occurrences of an element in a list?"
      ],
      "metadata": {
        "id": "jKqMKVl6bNMB"
      }
    },
    {
      "cell_type": "code",
      "source": [
        "listt = [1,2,3,6,5,48,9,2,1,6]\n",
        "occCount = {}\n",
        "for i in listt:\n",
        "  if i in occCount.keys():\n",
        "    occCount[i] = occCount[i] +1\n",
        "  else:\n",
        "    occCount[i] = 1\n",
        "occCount"
      ],
      "metadata": {
        "colab": {
          "base_uri": "https://localhost:8080/"
        },
        "id": "3amkWntZfjbQ",
        "outputId": "6025d9f8-870b-4886-8297-db1370b77e6f"
      },
      "execution_count": 23,
      "outputs": [
        {
          "output_type": "execute_result",
          "data": {
            "text/plain": [
              "{1: 2, 2: 2, 3: 1, 6: 2, 5: 1, 48: 1, 9: 1}"
            ]
          },
          "metadata": {},
          "execution_count": 23
        }
      ]
    }
  ]
}