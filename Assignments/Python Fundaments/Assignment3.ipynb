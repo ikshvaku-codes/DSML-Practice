{
  "cells": [
    {
      "cell_type": "markdown",
      "metadata": {
        "id": "XGTTjdtgPuzS"
      },
      "source": [
        "1. Why are functions advantageous to have in your programs?\n",
        "---\n",
        "* Write once use anywhere, anytime.\n",
        "---\n",
        "---\n",
        "2. When does the code in a function run: when it&#39;s specified or when it&#39;s called?\n",
        "---\n",
        "* code inside function runs, when it is called.\n",
        "---\n",
        "---\n",
        "3. What statement creates a function?\n",
        "---\n",
        "* def functionName(args):\n",
        "    * function Body\n",
        "---\n",
        "---\n",
        "4. What is the difference between a function and a function call?\n",
        "---\n",
        "* A function is a block of reusable code in a program\n",
        "* Function call is a way by which we use the code inside the called function\n",
        "---\n",
        "---\n",
        "5. How many global scopes are there in a Python program? How many local scopes?\n",
        "---\n",
        "* Global:- 1\n",
        "* Local:- 4\n",
        "---\n",
        "---\n",
        "6. What happens to variables in a local scope when the function call returns?\n",
        "---\n",
        "* One function is returned, the variables in the local scope of that function got destroyed\n",
        "---\n",
        "---\n",
        "7. What is the concept of a return value? Is it possible to have a return value in an expression?\n",
        "---\n",
        "* Once an operation is completely executed, it will return either the output or none.\n",
        "* Yes, expression will also return the value.\n",
        "---\n",
        "---\n",
        "8. If a function does not have a return statement, what is the return value of a call to that function?\n",
        "---\n",
        "* None\n",
        "---\n",
        "---\n",
        "9. How do you make a function variable refer to the global variable?\n",
        "---\n",
        "* Using Global Keyword\n",
        "---\n",
        "---\n",
        "10. What is the data type of None?\n",
        "---\n",
        "* Either it is Null or no value at all\n",
        "---\n",
        "---\n",
        "11. What does the sentence import areallyourpetsnamederic do?\n",
        "---\n",
        "* It will search for a Python module or package with name \"areallyourpetsnamederic\" in the current environment, if not found it will throw an error\n",
        "---\n",
        "---\n",
        "12. If you had a bacon() feature in a spam module, what would you call it after importing spam?\n",
        "---\n",
        "* import spam\n",
        "* bacon\n",
        "---\n",
        "---\n",
        "13. What can you do to save a programme from crashing if it encounters an error?\n",
        "* Use Exception handling, In programming terms use Try-Except statements\n",
        "---\n",
        "---\n",
        "14. What is the purpose of the try clause? What is the purpose of the except clause?\n",
        "---\n",
        "* Try clause will try to run the code within the given block.\n",
        "* If any runtime exception occurs in the code inside try clause, than code block under except clause will execute"
      ]
    }
  ],
  "metadata": {
    "colab": {
      "provenance": []
    },
    "kernelspec": {
      "display_name": "Python 3",
      "name": "python3"
    },
    "language_info": {
      "name": "python"
    }
  },
  "nbformat": 4,
  "nbformat_minor": 0
}