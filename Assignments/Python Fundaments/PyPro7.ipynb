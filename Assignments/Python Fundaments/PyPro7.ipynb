{
  "nbformat": 4,
  "nbformat_minor": 0,
  "metadata": {
    "colab": {
      "provenance": []
    },
    "kernelspec": {
      "name": "python3",
      "display_name": "Python 3"
    },
    "language_info": {
      "name": "python"
    }
  },
  "cells": [
    {
      "cell_type": "markdown",
      "source": [
        "1. Write a Python Program to find sum of array?\n"
      ],
      "metadata": {
        "id": "DIlKNMnIeFFI"
      }
    },
    {
      "cell_type": "code",
      "source": [
        "length = int(input(\"Enter the length of array: \"))\n",
        "array = []\n",
        "for i in range(length):\n",
        "  array.append(int(input(\"Enter the element: \")))\n",
        "\n",
        "sum = 0\n",
        "for i in array:\n",
        "  sum+= i\n",
        "\n",
        "print(f\"Sum of array {array} is: {sum}\")"
      ],
      "metadata": {
        "colab": {
          "base_uri": "https://localhost:8080/"
        },
        "id": "l0RE9dppeNRS",
        "outputId": "b39c0f85-d1c7-412b-c726-4088d7cc8b1d"
      },
      "execution_count": 2,
      "outputs": [
        {
          "output_type": "stream",
          "name": "stdout",
          "text": [
            "Enter the length of array: 3\n",
            "Enter the element: 56\n",
            "Enter the element: 151\n",
            "Enter the element: 12\n",
            "Sum of array [56, 151, 12] is: 219\n"
          ]
        }
      ]
    },
    {
      "cell_type": "markdown",
      "source": [
        "2. Write a Python Program to find largest element in an array?\n"
      ],
      "metadata": {
        "id": "QAYQNuaBeHQl"
      }
    },
    {
      "cell_type": "code",
      "source": [
        "length = int(input(\"Enter the length of array: \"))\n",
        "array = []\n",
        "for i in range(length):\n",
        "  array.append(int(input(\"Enter the element: \")))\n",
        "\n",
        "max = array[0]\n",
        "for i in array:\n",
        "  if i > max:\n",
        "    max = i\n",
        "\n",
        "print(f\"Maximum element in array {array} is: {max}\")"
      ],
      "metadata": {
        "colab": {
          "base_uri": "https://localhost:8080/"
        },
        "id": "HalBlUxD5-JC",
        "outputId": "b0d465d8-d441-44bc-f778-d0c2dcbcf234"
      },
      "execution_count": 3,
      "outputs": [
        {
          "output_type": "stream",
          "name": "stdout",
          "text": [
            "Enter the length of array: 5\n",
            "Enter the element: 54\n",
            "Enter the element: 45\n",
            "Enter the element: 98\n",
            "Enter the element: 45\n",
            "Enter the element: 987645\n",
            "Maximum element in array [54, 45, 98, 45, 987645] is: 987645\n"
          ]
        }
      ]
    },
    {
      "cell_type": "markdown",
      "source": [
        "3. Write a Python Program for array rotation?\n"
      ],
      "metadata": {
        "id": "N7JQwHkBeI9t"
      }
    },
    {
      "cell_type": "code",
      "source": [
        "length = int(input(\"Enter the length of array: \"))\n",
        "array = []\n",
        "for i in range(length):\n",
        "  array.append(int(input(\"Enter the element: \")))\n",
        "\n",
        "rotate = \"Y\"\n",
        "while rotate == \"Y\":\n",
        "  rotationDir = input(\"Enter the Direction to rotate array(L/R): \")\n",
        "  tempArr = []\n",
        "  if rotationDir == \"R\" or rotationDir == \"r\":\n",
        "    tempArr.append(array[len(array)-1])\n",
        "    tempArr.extend(0, len(array)-1)\n",
        "    array = tempArr\n",
        "  elif rotationDir == \"L\" or rotationDir == \"l\":\n",
        "    tempArr.extend(array[1, len(array)])\n",
        "    tempArr.append(array[0])\n",
        "    array = tempArr\n",
        "  print(array)\n",
        "  rotate = input(\"Want to continue(Y/N): \")"
      ],
      "metadata": {
        "colab": {
          "base_uri": "https://localhost:8080/"
        },
        "id": "wg8Fqoll6YQo",
        "outputId": "90218c26-e654-49d4-ca4d-b8baff735942"
      },
      "execution_count": 7,
      "outputs": [
        {
          "name": "stdout",
          "output_type": "stream",
          "text": [
            "Enter the length of array: 5\n",
            "Enter the element: 1\n",
            "Enter the element: 2\n",
            "Enter the element: 3\n",
            "Enter the element: 4\n",
            "Enter the element: 5\n",
            "Enter the Direction to rotate array(L/R): R\n",
            "[5, 1, 2, 3, 4]\n",
            "Want to continue(Y/N): Y\n",
            "Enter the Direction to rotate array(L/R): L\n",
            "[1, 2, 3, 4, 5]\n",
            "Want to continue(Y/N): N\n"
          ]
        }
      ]
    },
    {
      "cell_type": "markdown",
      "source": [
        "4. Write a Python Program to Split the array and add the first part to the end?\n"
      ],
      "metadata": {
        "id": "wa_qMobIeKzM"
      }
    },
    {
      "cell_type": "code",
      "source": [
        "length = int(input(\"Enter the length of array: \"))\n",
        "array = []\n",
        "for i in range(length):\n",
        "  array.append(int(input(\"Enter the element: \")))\n",
        "\n",
        "indexToSplit = int(input(\"Enter the index to Split the Array: \"))\n",
        "\n",
        "newArray = array[indexToSplit:len(array)]\n",
        "newArray.extend(array[0:indexToSplit])"
      ],
      "metadata": {
        "id": "B87Z_8Xk9VVr"
      },
      "execution_count": null,
      "outputs": []
    },
    {
      "cell_type": "markdown",
      "source": [
        "5. Write a Python Program to check if given array is Monotonic?"
      ],
      "metadata": {
        "id": "nEaIHa-peMc_"
      }
    },
    {
      "cell_type": "code",
      "execution_count": 9,
      "metadata": {
        "colab": {
          "base_uri": "https://localhost:8080/"
        },
        "id": "Uupz7aEHeCLY",
        "outputId": "d648bddb-1d76-4590-903f-895ee037696f"
      },
      "outputs": [
        {
          "output_type": "stream",
          "name": "stdout",
          "text": [
            "Enter the length of array: 5\n",
            "Enter the element: 2\n",
            "Enter the element: 6\n",
            "Enter the element: 3\n",
            "Enter the element: 4\n",
            "Enter the element: 8\n",
            "Given Array [2, 6, 3, 4, 8] is not monitonic\n"
          ]
        }
      ],
      "source": [
        "length = int(input(\"Enter the length of array: \"))\n",
        "array = []\n",
        "for i in range(length):\n",
        "  array.append(int(input(\"Enter the element: \")))\n",
        "\n",
        "monInc = True\n",
        "monDec = True\n",
        "\n",
        "for i in range(1,length):\n",
        "  if array[i-1] > array[i]:\n",
        "    monInc = False \n",
        "    break\n",
        "\n",
        "for i in range(1,length):\n",
        "  if array[i-1] < array[i]:\n",
        "    monDec = False \n",
        "    break\n",
        "if monInc or monDec:\n",
        "  print(f\"Given Array {array} is monitonic\")\n",
        "else:\n",
        "  print(f\"Given Array {array} is not monitonic\")"
      ]
    }
  ]
}