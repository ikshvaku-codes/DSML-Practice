{
  "nbformat": 4,
  "nbformat_minor": 0,
  "metadata": {
    "colab": {
      "provenance": []
    },
    "kernelspec": {
      "name": "python3",
      "display_name": "Python 3"
    },
    "language_info": {
      "name": "python"
    }
  },
  "cells": [
    {
      "cell_type": "markdown",
      "source": [
        "1. In the below elements which of them are values or an expression? eg:- values can be\n",
        "integer or string and expressions will be mathematical operators.\n",
        "\n",
        "\n",
        "---\n",
        "\n",
        "\n",
        "*\n",
        "    --Operator\n",
        "'hello'\n",
        "    --Values\n",
        "-87.8\n",
        "    --Values\n",
        "-\n",
        "    --Operator\n",
        "/\n",
        "    --Operator\n",
        "+\n",
        "    --Operator\n",
        "6\n",
        "    --Value\n",
        "\n",
        "\n",
        "---\n",
        "\n",
        "\n",
        "\n",
        "---\n",
        "\n"
      ],
      "metadata": {
        "id": "H6tfHkhD1awi"
      }
    },
    {
      "cell_type": "markdown",
      "source": [
        "2. What is the difference between string and variable?\n",
        "\n",
        "\n",
        "\n",
        "---\n",
        "\n",
        "\n",
        "\n",
        "*   Variable\n",
        "    *   A variable can be defined as a container which store a piece of information\n",
        "    *   Variable can be declared with any name but there are some rules to it, it should be either alphabet or alphanumeric(Don't begin with number), underscore.\n",
        "    *  A value store inside a variable can be changed and latest modification will always be the considered value\n",
        "    \n",
        "    \n",
        "        \n",
        "*   String\n",
        "    * String is a type of variable, it is an immutable arrary of characters. like name of a user. It need to be enclosed between either double quotation(\") or single quotation(')\n",
        "    \n",
        "\n",
        "\n",
        "\n",
        "---\n",
        "\n",
        "\n",
        "\n",
        "---\n",
        "\n"
      ],
      "metadata": {
        "id": "IC_bbtro15aj"
      }
    },
    {
      "cell_type": "markdown",
      "source": [
        "3. Describe three different data types.\n",
        "\n",
        "\n",
        "\n",
        "---\n",
        "\n",
        "*   integer\n",
        "    * Any non decimal number which can be represented on a number line is integer. eg a = 5, a = -10 are integers. a = 0.5(This is a float value not integer)\n",
        "*   boolean\n",
        "    * It stores logical values. It is either true or false.\n",
        "*   string\n",
        "    * String is a type of variable, it is an immutable arrary of characters. like name of a user. It need to be enclosed between either double quotation(\") or single quotation('). eg name = \"Divanshu\"\n",
        "\n",
        "\n",
        "\n",
        "---\n",
        "\n",
        "\n",
        "\n",
        "---\n",
        "\n"
      ],
      "metadata": {
        "id": "mQR20UeT8Xpb"
      }
    },
    {
      "cell_type": "markdown",
      "source": [
        "4. What is an expression made up of? What do all expressions do?\n",
        "\n",
        "\n",
        "---\n",
        "\n",
        "\n",
        "\n",
        "*   An Expression is defined as combination of values, variables, functions and returns an output. \n",
        "\n",
        "*   Example:-\n",
        "    *   a = 5x+4y\n",
        "    *   b = concat(\"a\",substr(name,0,3)) //name is a variable\n",
        "\n",
        "\n",
        "---\n",
        "\n",
        "\n",
        "\n",
        "---\n",
        "\n",
        "\n"
      ],
      "metadata": {
        "id": "adq7uZa0ovW_"
      }
    },
    {
      "cell_type": "markdown",
      "source": [
        "5. This assignment statements, like spam = 10. What is the difference between an\n",
        "\n",
        "---\n",
        "\n",
        "\n",
        "expression and a statement?\n",
        "\n",
        "\n",
        "\n",
        "---\n",
        "*   An Expression is defined as combination of values, variables, functions and returns an output. \n",
        "\n",
        "*   Example:-\n",
        "    *   a = 5x+4y\n",
        "    *   b = concat(\"a\",substr(name,0,3)) //name is a variable\n",
        "\n",
        "*   A statement is a single complete line in a program. It doesn't necessarily return anything\n",
        "\n",
        "*   Example:-\n",
        "    *   a = 50, we assign a value in this statement\n",
        "    *   print(a), print statement\n",
        "\n",
        "\n",
        "---\n",
        "\n",
        "\n",
        "\n",
        "---"
      ],
      "metadata": {
        "id": "uqIOnD5UqFBf"
      }
    },
    {
      "cell_type": "markdown",
      "source": [
        "6. After running the following code, what does the variable bacon contain?\n"
      ],
      "metadata": {
        "id": "DwTzmg1DrDvA"
      }
    },
    {
      "cell_type": "code",
      "source": [
        "bacon = 22\n",
        "bacon + 1"
      ],
      "metadata": {
        "colab": {
          "base_uri": "https://localhost:8080/"
        },
        "id": "kOPsKRzIrDI7",
        "outputId": "17df16b4-a1ab-425b-e794-bc46601c0fca"
      },
      "execution_count": 2,
      "outputs": [
        {
          "output_type": "execute_result",
          "data": {
            "text/plain": [
              "23"
            ]
          },
          "metadata": {},
          "execution_count": 2
        }
      ]
    },
    {
      "cell_type": "markdown",
      "source": [
        "23\n",
        "\n",
        "\n",
        "---\n",
        "\n",
        "\n",
        "\n",
        "---\n",
        "\n"
      ],
      "metadata": {
        "id": "IuzqSHOmro8l"
      }
    },
    {
      "cell_type": "markdown",
      "source": [
        "7. What should the values of the following two terms be?\n",
        "\n",
        "\n",
        "---\n",
        "\n",
        "\n",
        "* \"spam\" + \"spamspam\"\n",
        "    * \"spamspamspam\"\n",
        "\n",
        "* \"spam\"* 3\n",
        "    * \"spamspamspam\"\n",
        "\n",
        "\n",
        "---\n",
        "\n",
        "\n",
        "\n",
        "---\n",
        "\n"
      ],
      "metadata": {
        "id": "6rOiUA-Qrsze"
      }
    },
    {
      "cell_type": "markdown",
      "source": [
        "8. Why is eggs a valid variable name while 100 is invalid?\n",
        "\n",
        "\n",
        "---\n",
        "\n",
        "\n",
        "\n",
        "*   \"eggs\" is valid variable name as it is alphanumeric value which is not begining with a number \n",
        "\n",
        "\n",
        "*   \"100\" is not a valid variable name as it is only numerial or names begining with numbers is not accepted type\n",
        "\n",
        "\n",
        "---\n",
        "\n",
        "\n",
        "\n",
        "---\n",
        "\n",
        "\n",
        "\n",
        "\n",
        "\n",
        "\n"
      ],
      "metadata": {
        "id": "Avg44N01sOTZ"
      }
    },
    {
      "cell_type": "markdown",
      "source": [
        "9. What three functions can be used to get the integer, floating-point number, or string\n",
        "version of a value?\n",
        "\n",
        "\n",
        "---\n",
        "\n",
        "\n",
        "\n",
        "*   integer: int()\n",
        "*   float: float()\n",
        "*   string: str()\n",
        "\n",
        "\n",
        "\n",
        "---\n",
        "\n",
        "\n",
        "\n",
        "---\n",
        "\n"
      ],
      "metadata": {
        "id": "8at2ed_Cs7JH"
      }
    },
    {
      "cell_type": "markdown",
      "source": [
        "10. Why does this expression cause an error? How can you fix it?\n",
        "\n",
        "\n",
        "---\n",
        "Expression:- \"I have eaten \" + 99 + \" burritos.\"\n",
        "* We can not concat string with integer value\n",
        "* Simple solution is apply a type conversion to the integer value, as all interger values can be converted to string. The reverse doesn't holds true in all cases\n",
        "* Below are the two ways for doing this\n"
      ],
      "metadata": {
        "id": "wPR0t-j4tcFi"
      }
    },
    {
      "cell_type": "code",
      "execution_count": 5,
      "metadata": {
        "id": "_5gBHOiS1SFT",
        "colab": {
          "base_uri": "https://localhost:8080/",
          "height": 36
        },
        "outputId": "8d2f5c83-57d9-4563-a1df-049d88319e2b"
      },
      "outputs": [
        {
          "output_type": "execute_result",
          "data": {
            "text/plain": [
              "'I have eaten 99 burritos.'"
            ],
            "application/vnd.google.colaboratory.intrinsic+json": {
              "type": "string"
            }
          },
          "metadata": {},
          "execution_count": 5
        }
      ],
      "source": [
        "\"I have eaten \" + str(99) + \" burritos.\""
      ]
    },
    {
      "cell_type": "code",
      "source": [
        "\"I have eaten \" + \"99\" + \" burritos.\""
      ],
      "metadata": {
        "colab": {
          "base_uri": "https://localhost:8080/",
          "height": 36
        },
        "id": "zmiVj7c5ugb2",
        "outputId": "19e78371-1353-4c46-d735-d89e67bff937"
      },
      "execution_count": 7,
      "outputs": [
        {
          "output_type": "execute_result",
          "data": {
            "text/plain": [
              "'I have eaten 99 burritos.'"
            ],
            "application/vnd.google.colaboratory.intrinsic+json": {
              "type": "string"
            }
          },
          "metadata": {},
          "execution_count": 7
        }
      ]
    }
  ]
}