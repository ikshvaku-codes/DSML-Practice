{
  "nbformat": 4,
  "nbformat_minor": 0,
  "metadata": {
    "colab": {
      "provenance": []
    },
    "kernelspec": {
      "name": "python3",
      "display_name": "Python 3"
    },
    "language_info": {
      "name": "python"
    }
  },
  "cells": [
    {
      "cell_type": "markdown",
      "source": [
        "1. In what modes should the PdfFileReader() and PdfFileWriter() File objects will be opened?\n",
        "---\n",
        "* PdfFileReader():- Read mode\n",
        "* PdfFileWriter():- Write mode\n",
        "---\n",
        "---\n",
        "2. From a PdfFileReader object, how do you get a Page object for page 5?\n",
        "---\n",
        "* pdfReader = PyPDF2.PdfFileReader(open('temp.pdf', 'rb'))\n",
        "* atPg5 = pdfReader.getPage(5)\n",
        "---\n",
        "---\n",
        "3. What PdfFileReader variable stores the number of pages in the PDF document?\n",
        "---\n",
        "* pdfReader = PyPDF2.PdfFileReader(open('temp.pdf', 'rb'))\n",
        "* pdfReader.numPages\n",
        "---\n",
        "---\n",
        "4. If a PdfFileReader object’s PDF is encrypted with the password swordfish, what must you do\n",
        "before you can obtain Page objects from it?\n",
        "---\n",
        "* file = PdfFileReader(\"encFile.pdf\")\n",
        "* file.decrypt(\"swordfish\")\n",
        "---\n",
        "---\n",
        "5. What methods do you use to rotate a page?\n",
        "---\n",
        "* rotateClockwise()\n",
        "* rotateAntiClockwise()\n",
        "---\n",
        "---\n",
        "6. What is the difference between a Run object and a Paragraph object?\n",
        "---\n",
        "* Run Object:- A Run object is a contiguous run of text with the same style\n",
        "* Paragraph Object:- Each of these Paragraph objects contains a list of one or more Run objects\n",
        "---\n",
        "---\n",
        "7. How do you obtain a list of Paragraph objects for a Document object that’s stored in a variable named doc?\n",
        "---\n",
        "* Document object is the list of paragraph\n",
        "* doc = docx.Document('sample.docx')\n",
        "---\n",
        "---\n",
        "8. What type of object has bold, underline, italic, strike, and outline variables?\n",
        "---\n",
        "* Run Attributes\n",
        "---\n",
        "---\n",
        "9. What is the difference between False, True, and None for the bold variable?\n",
        "---\n",
        "* True:- Enabled\n",
        "* False:- Disabled\n",
        "* None:- Default Setting\n",
        "---\n",
        "---\n",
        "10. How do you create a Document object for a new Word document?\n",
        "---\n",
        "* doc = docx.Document(\"sample.docx\")\n",
        "\n",
        "---\n",
        "---\n",
        "11. How do you add a paragraph with the text &#39;Hello, there!&#39; to a Document object stored in a variable named doc?\n",
        "---\n",
        "* doc.add_paragraph(\"Hello, there!\")\n",
        "---\n",
        "---\n",
        "12. What integers represent the levels of headings available in Word documents?\n",
        "---\n",
        "Smallest the integer, highest the level "
      ],
      "metadata": {
        "id": "FmtnJGaijj2D"
      }
    }
  ]
}