{
  "nbformat": 4,
  "nbformat_minor": 0,
  "metadata": {
    "colab": {
      "provenance": []
    },
    "kernelspec": {
      "name": "python3",
      "display_name": "Python 3"
    },
    "language_info": {
      "name": "python"
    }
  },
  "cells": [
    {
      "cell_type": "markdown",
      "source": [
        "1. Write a Python Program to Find the Factorial of a Number?"
      ],
      "metadata": {
        "id": "ik5ksv8gm8t4"
      }
    },
    {
      "cell_type": "code",
      "source": [
        "number = int(input(\"Find factorial of: \"))\n",
        "factorial = 1\n",
        "\n",
        "for i in range(1, number+1):\n",
        "  factorial*=i\n",
        "print(factorial)"
      ],
      "metadata": {
        "colab": {
          "base_uri": "https://localhost:8080/"
        },
        "id": "7iABFrhDnGU5",
        "outputId": "c858ddae-c822-411a-bab0-b371594ce78b"
      },
      "execution_count": 2,
      "outputs": [
        {
          "output_type": "stream",
          "name": "stdout",
          "text": [
            "Find factorial of: 6\n",
            "720\n"
          ]
        }
      ]
    },
    {
      "cell_type": "markdown",
      "source": [
        "\n",
        "2. Write a Python Program to Display the multiplication Table?"
      ],
      "metadata": {
        "id": "UdS2M6tem9Gc"
      }
    },
    {
      "cell_type": "code",
      "source": [
        "number = int(input(\"Number of mul: \"))\n",
        "\n",
        "tableList = [i*j for i in range(0,(number+1)) for j in range(0,(number+1))  ]\n",
        "\n",
        "tableMatrix = []\n",
        "table = []\n",
        "\n",
        "for i,j in enumerate(tableList):\n",
        "  if (i+1)%(number+1)==0:\n",
        "    table.append(j)\n",
        "    tableMatrix.append(table)\n",
        "    table=[]\n",
        "    continue\n",
        "  table.append(j)\n",
        "\n",
        "tableMatrix\n",
        "  "
      ],
      "metadata": {
        "colab": {
          "base_uri": "https://localhost:8080/"
        },
        "id": "L6DxwxxXn9ov",
        "outputId": "d4f557a0-2939-4f41-faf0-e69ca8124bb8"
      },
      "execution_count": 10,
      "outputs": [
        {
          "name": "stdout",
          "output_type": "stream",
          "text": [
            "Number of mul: 6\n"
          ]
        },
        {
          "output_type": "execute_result",
          "data": {
            "text/plain": [
              "[[0, 0, 0, 0, 0, 0, 0],\n",
              " [0, 1, 2, 3, 4, 5, 6],\n",
              " [0, 2, 4, 6, 8, 10, 12],\n",
              " [0, 3, 6, 9, 12, 15, 18],\n",
              " [0, 4, 8, 12, 16, 20, 24],\n",
              " [0, 5, 10, 15, 20, 25, 30],\n",
              " [0, 6, 12, 18, 24, 30, 36]]"
            ]
          },
          "metadata": {},
          "execution_count": 10
        }
      ]
    },
    {
      "cell_type": "markdown",
      "source": [
        "\n",
        "3. Write a Python Program to Print the Fibonacci sequence?"
      ],
      "metadata": {
        "id": "AjJzXEq-m9rf"
      }
    },
    {
      "cell_type": "code",
      "source": [
        "number = input(\"Enter the number of element in Series: \")\n",
        "first = 0\n",
        "second = 1\n",
        "fibSeries = [0,1]\n",
        "for i in range(2,7):\n",
        "  second = fibSeries[len(fibSeries)-1] + fibSeries[len(fibSeries)-2]\n",
        "  fibSeries.append(second)\n",
        "\n",
        "print(fibSeries)\n"
      ],
      "metadata": {
        "colab": {
          "base_uri": "https://localhost:8080/"
        },
        "id": "cRAbyoO0roaI",
        "outputId": "6155e056-aa05-438f-c201-139f0683fc9e"
      },
      "execution_count": 17,
      "outputs": [
        {
          "output_type": "stream",
          "name": "stdout",
          "text": [
            "Enter the number of element in Series: 5\n",
            "[0, 1, 1, 2, 3, 5, 8]\n"
          ]
        }
      ]
    },
    {
      "cell_type": "markdown",
      "source": [
        "\n",
        "4. Write a Python Program to Check Armstrong Number?"
      ],
      "metadata": {
        "id": "M5HdHDTGm-A3"
      }
    },
    {
      "cell_type": "code",
      "source": [
        "number = int(input(\"Enter the number to check: \"))\n",
        "digit = number\n",
        "armNum = 0\n",
        "while digit>10:\n",
        "  dig = digit%10\n",
        "  armNum+= dig**3\n",
        "  digit = int(digit/10)\n",
        "\n",
        "armNum+=digit**3\n",
        "\n",
        "if armNum == number:\n",
        "  print(f\"{number} is an Armstrong Number\")\n",
        "else:\n",
        "  print(f\"{number} is not an Armstrong Number\")"
      ],
      "metadata": {
        "colab": {
          "base_uri": "https://localhost:8080/"
        },
        "id": "rL53pIehto7J",
        "outputId": "4ff52f2b-4368-41b1-d7c4-a7e753a3b128"
      },
      "execution_count": 24,
      "outputs": [
        {
          "output_type": "stream",
          "name": "stdout",
          "text": [
            "Enter the number to check: 371\n",
            "1\n",
            "7\n",
            "7\n"
          ]
        },
        {
          "output_type": "execute_result",
          "data": {
            "text/plain": [
              "True"
            ]
          },
          "metadata": {},
          "execution_count": 24
        }
      ]
    },
    {
      "cell_type": "markdown",
      "source": [
        "\n",
        "5. Write a Python Program to Find Armstrong Number in an Interval?"
      ],
      "metadata": {
        "id": "Com1EqY9m-Vu"
      }
    },
    {
      "cell_type": "code",
      "source": [
        "def checkArmstrong(number):\n",
        "  \n",
        "  digit = number\n",
        "  armNum = 0\n",
        "  while digit>10:\n",
        "    dig = digit%10\n",
        "    armNum+= dig**3\n",
        "    digit = int(digit/10)\n",
        "\n",
        "  armNum+=digit**3\n",
        "  if armNum == number:\n",
        "    \n",
        "    return True\n",
        "  else:\n",
        "    \n",
        "    return False\n",
        "\n",
        "uB = int(input(\"Enter the Upper Bound: \"))\n",
        "nB = int(input(\"Enter the Lower Bound: \"))\n",
        "for i in range(nB, uB+1):\n",
        "  \n",
        "  if checkArmstrong(i):\n",
        "    print(i)"
      ],
      "metadata": {
        "colab": {
          "base_uri": "https://localhost:8080/"
        },
        "id": "DAPJVs6mvhF6",
        "outputId": "72ce026d-adf8-4044-cddb-ce1c8ba683c5"
      },
      "execution_count": 30,
      "outputs": [
        {
          "output_type": "stream",
          "name": "stdout",
          "text": [
            "Enter the Upper Bound: 500\n",
            "Enter the Lower Bound: 100\n",
            "153\n",
            "370\n",
            "371\n",
            "407\n"
          ]
        }
      ]
    },
    {
      "cell_type": "markdown",
      "source": [
        "\n",
        "6. Write a Python Program to Find the Sum of Natural Numbers?"
      ],
      "metadata": {
        "id": "BGQdxMcAm-x1"
      }
    },
    {
      "cell_type": "code",
      "execution_count": 31,
      "metadata": {
        "colab": {
          "base_uri": "https://localhost:8080/"
        },
        "id": "QsW16gAQmwXo",
        "outputId": "fb48d1e0-7435-4403-fcfa-12155ff6d2e6"
      },
      "outputs": [
        {
          "output_type": "stream",
          "name": "stdout",
          "text": [
            "Enter the last number: 25\n",
            "300\n"
          ]
        }
      ],
      "source": [
        "sum = 0\n",
        "lastDig = int(input(\"Enter the last number: \"))\n",
        "\n",
        "for i in range(1, lastDig):\n",
        "  sum+=i\n",
        "\n",
        "print(sum)"
      ]
    }
  ]
}