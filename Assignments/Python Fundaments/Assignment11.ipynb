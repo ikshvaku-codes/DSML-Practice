{
  "nbformat": 4,
  "nbformat_minor": 0,
  "metadata": {
    "colab": {
      "provenance": []
    },
    "kernelspec": {
      "name": "python3",
      "display_name": "Python 3"
    },
    "language_info": {
      "name": "python"
    }
  },
  "cells": [
    {
      "cell_type": "markdown",
      "source": [
        "1. Create an assert statement that throws an AssertionError if the variable spam is a negative\n",
        "integer.\n",
        "---\n",
        "* try:\n",
        "  *  assert spam >=0\n",
        "* except AssertionError:\n",
        "  *  print(\"Error\")\n",
        "---\n",
        "---\n",
        "2. Write an assert statement that triggers an AssertionError if the variables eggs and bacon contain\n",
        "strings that are the same as each other, even if their cases are different (that is, &#39;hello&#39; and &#39;hello&#39; are\n",
        "considered the same, and &#39;goodbye&#39; and &#39;GOODbye&#39; are also considered the same).\n",
        "---\n",
        "* egg = input(\"Enter value for Egg: \")\n",
        "* bacon = input(\"Enter value for vacon: \")\n",
        "* try:\n",
        "  *  assert egg.upper() == bacon.upper()\n",
        "* except AssertionError:\n",
        "  *  print(\"Error\")\n",
        "---\n",
        "---\n",
        "3. Create an assert statement that throws an AssertionError every time.\n",
        "---\n",
        "* assert False\n",
        "---\n",
        "---\n",
        "4. What are the two lines that must be present in your software in order to call logging.debug()?\n",
        "---\n",
        "* import logging\n",
        "\n",
        "* logging.basicConfig(filename=\"newfile.log\",filemode='w')\n",
        "* logging.debug('This is a debug message')\n",
        "---\n",
        "---\n",
        "5. What are the two lines that your program must have in order to have logging.debug() send a\n",
        "logging message to a file named programLog.txt?\n",
        "---\n",
        "* import logging\n",
        "\n",
        "* logging.basicConfig(filename=\"programLog.log\",filemode='w')\n",
        "* logging.debug('This is a debug message')\n",
        "---\n",
        "---\n",
        "6. What are the five levels of logging?\n",
        "---\n",
        "* Info\n",
        "* Debug\n",
        "* Warning\n",
        "* Error\n",
        "* Critical\n",
        "---\n",
        "---\n",
        "7. What line of code would you add to your software to disable all logging messages?\n",
        "---\n",
        "\n",
        "---\n",
        "---\n",
        "8. Why is using logging messages better than using print() to display the same message?\n",
        "---\n",
        "* Logging is recommended because we can store all error messages at one place using logging, and refer to them anytime in future\n",
        "---\n",
        "---\n",
        "9. What are the differences between the Step Over, Step In, and Step Out buttons in the debugger?\n",
        "---\n",
        "* Step Over command: This command lets the application execute the next action. If the action involves a call to an operation, it does not step into its implementation (it steps over it instead).\n",
        "* Step Into command: This command lets the application execute the next action. If the action involves a call to an operation, it steps into its implementation and breaks the execution on the first action of that implementation.\n",
        "* Step Out command: This command lets the application execute until the currently executed operation implementation is returned.\n",
        "---\n",
        "---\n",
        "10. After you click Continue, when will the debugger stop ?\n",
        "---\n",
        "* Once execution of program is completed\n",
        "---\n",
        "---\n",
        "11. What is the concept of a breakpoint?\n",
        "---\n",
        "* Pause at a particular line of code while program is executing"
      ],
      "metadata": {
        "id": "4Lg8swPMCHmA"
      }
    },
    {
      "cell_type": "code",
      "execution_count": 9,
      "metadata": {
        "colab": {
          "base_uri": "https://localhost:8080/"
        },
        "id": "BiLN3XZJB-pb",
        "outputId": "7398a049-1ac7-4f9e-97ab-70494ef33212"
      },
      "outputs": [
        {
          "output_type": "stream",
          "name": "stdout",
          "text": [
            "Error\n"
          ]
        }
      ],
      "source": [
        "spam = \"hello\"\n",
        "spa = \"Hell0o\"\n",
        "try:\n",
        "  assert spam.upper() == spa.upper()\n",
        "  print(True)\n",
        "except AssertionError:\n",
        "\n",
        "  print(\"Error\")"
      ]
    }
  ]
}