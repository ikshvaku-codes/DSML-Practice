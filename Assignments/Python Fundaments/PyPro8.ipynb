{
  "nbformat": 4,
  "nbformat_minor": 0,
  "metadata": {
    "colab": {
      "provenance": []
    },
    "kernelspec": {
      "name": "python3",
      "display_name": "Python 3"
    },
    "language_info": {
      "name": "python"
    }
  },
  "cells": [
    {
      "cell_type": "markdown",
      "source": [
        "1. Write a Python Program to Add Two Matrices?\n"
      ],
      "metadata": {
        "id": "ybzGGr4XFwwc"
      }
    },
    {
      "cell_type": "code",
      "source": [
        "def createMatrix(row, column):\n",
        "  matrix = []\n",
        "  for i in range(row):\n",
        "    oneRow = []\n",
        "    for j in range(column):\n",
        "      oneRow.append(int(input(\"Enter Element: \")))\n",
        "    matrix.append(oneRow)\n",
        "  return matrix\n",
        "\n",
        "row = int(input(\"Enter the number of rows: \"))\n",
        "column = int(input(\"Enter the number of columns: \"))\n",
        "print(\"Enter Elements Row Wise\")\n",
        "\n",
        "print(\"Enter Elements for Matrix 1: \")\n",
        "matrix1 = createMatrix(row,column)\n",
        "print(\"Enter Elements for Matrix 2: \")\n",
        "matrix2 = createMatrix(row,column)\n",
        "\n",
        "sumMatrix = []\n",
        "for i in range(row):\n",
        "    oneRow = []\n",
        "    for j in range(column):\n",
        "      oneRow.append(matrix1[i][j] + matrix2[i][j])\n",
        "    sumMatrix.append(oneRow)\n",
        "print(sumMatrix)"
      ],
      "metadata": {
        "colab": {
          "base_uri": "https://localhost:8080/"
        },
        "id": "PTgt3yxUF9n4",
        "outputId": "a923939b-8a5d-4702-d884-9abf4876cce6"
      },
      "execution_count": 2,
      "outputs": [
        {
          "output_type": "stream",
          "name": "stdout",
          "text": [
            "Enter the number of rows: 2\n",
            "Enter the number of columns: 2\n",
            "Enter Elements Row Wise\n",
            "Enter Elements for Matrix 1: \n",
            "Enter Element: 1\n",
            "Enter Element: 2\n",
            "Enter Element: 3\n",
            "Enter Element: 4\n",
            "Enter Elements for Matrix 2: \n",
            "Enter Element: 1\n",
            "Enter Element: 2\n",
            "Enter Element: 3\n",
            "Enter Element: 4\n",
            "[[2, 4], [6, 8]]\n"
          ]
        }
      ]
    },
    {
      "cell_type": "markdown",
      "source": [
        "2. Write a Python Program to Multiply Two Matrices?\n"
      ],
      "metadata": {
        "id": "dRhWcaJgFzQt"
      }
    },
    {
      "cell_type": "code",
      "source": [],
      "metadata": {
        "id": "9vfBsNNSJW0s"
      },
      "execution_count": null,
      "outputs": []
    },
    {
      "cell_type": "markdown",
      "source": [
        "3. Write a Python Program to Transpose a Matrix?\n"
      ],
      "metadata": {
        "id": "lPvsvPddF4IK"
      }
    },
    {
      "cell_type": "code",
      "source": [
        "def createMatrix(row, column):\n",
        "  matrix = []\n",
        "  for i in range(row):\n",
        "    oneRow = []\n",
        "    for j in range(column):\n",
        "      oneRow.append(int(input(\"Enter Element: \")))\n",
        "    matrix.append(oneRow)\n",
        "  return matrix\n",
        "\n",
        "row = int(input(\"Enter the number of rows: \"))\n",
        "column = int(input(\"Enter the number of columns: \"))\n",
        "print(\"Enter Elements Row Wise\")\n",
        "\n",
        "print(\"Enter Elements for Matrix: \")\n",
        "matrix1 = createMatrix(row,column)\n",
        "\n",
        "transMatrix = []\n",
        "for i in range(column):\n",
        "  oneRow = []\n",
        "  for j in range(row):\n",
        "    oneRow.append(matrix1[j][i])\n",
        "  transMatrix.append(oneRow)\n",
        "\n",
        "transMatrix"
      ],
      "metadata": {
        "colab": {
          "base_uri": "https://localhost:8080/"
        },
        "id": "vxeuACuMJ-nn",
        "outputId": "29c6dc76-752d-49a9-ef7e-541dc65965ad"
      },
      "execution_count": 4,
      "outputs": [
        {
          "name": "stdout",
          "output_type": "stream",
          "text": [
            "Enter the number of rows: 2\n",
            "Enter the number of columns: 3\n",
            "Enter Elements Row Wise\n",
            "Enter Elements for Matrix: \n",
            "Enter Element: 5\n",
            "Enter Element: 6\n",
            "Enter Element: 3\n",
            "Enter Element: 7\n",
            "Enter Element: 8\n",
            "Enter Element: 9\n"
          ]
        },
        {
          "output_type": "execute_result",
          "data": {
            "text/plain": [
              "[[5, 7], [6, 8], [3, 9]]"
            ]
          },
          "metadata": {},
          "execution_count": 4
        }
      ]
    },
    {
      "cell_type": "markdown",
      "source": [
        "4. Write a Python Program to Sort Words in Alphabetic Order?\n"
      ],
      "metadata": {
        "id": "ZhyHKXbXF7AW"
      }
    },
    {
      "cell_type": "code",
      "source": [
        "\n",
        "\n",
        "''.join(sorted(input(\"Enter String to sort: \")))\n"
      ],
      "metadata": {
        "colab": {
          "base_uri": "https://localhost:8080/",
          "height": 53
        },
        "id": "uMDWjwgrcbon",
        "outputId": "e5116d07-c2ea-42c9-c18c-2b8d4d386932"
      },
      "execution_count": 6,
      "outputs": [
        {
          "name": "stdout",
          "output_type": "stream",
          "text": [
            "Enter String to sort: jfosdjofijJOIHOfg\n"
          ]
        },
        {
          "output_type": "execute_result",
          "data": {
            "text/plain": [
              "'HIJOOdfffgijjjoos'"
            ],
            "application/vnd.google.colaboratory.intrinsic+json": {
              "type": "string"
            }
          },
          "metadata": {},
          "execution_count": 6
        }
      ]
    },
    {
      "cell_type": "markdown",
      "source": [
        "5. Write a Python Program to Remove Punctuation From a String?"
      ],
      "metadata": {
        "id": "0_ZZ67agF85M"
      }
    },
    {
      "cell_type": "code",
      "execution_count": 10,
      "metadata": {
        "colab": {
          "base_uri": "https://localhost:8080/",
          "height": 53
        },
        "id": "6YW_2-iaFlRL",
        "outputId": "1fe53981-f22e-4946-c09c-7709b6d0f9fa"
      },
      "outputs": [
        {
          "name": "stdout",
          "output_type": "stream",
          "text": [
            "Enter String to remove Punctuations: .f,sd.f,;saf,;as,f;,;a,l,s\n"
          ]
        },
        {
          "output_type": "execute_result",
          "data": {
            "text/plain": [
              "'fsdfsafasfals'"
            ],
            "application/vnd.google.colaboratory.intrinsic+json": {
              "type": "string"
            }
          },
          "metadata": {},
          "execution_count": 10
        }
      ],
      "source": [
        "import string\n",
        "testStr = input(\"Enter String to remove Punctuations: \")\n",
        "testStr = testStr.translate(str.maketrans('', '', string.punctuation))\n",
        "testStr"
      ]
    }
  ]
}