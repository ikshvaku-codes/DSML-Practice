{
  "nbformat": 4,
  "nbformat_minor": 0,
  "metadata": {
    "colab": {
      "provenance": []
    },
    "kernelspec": {
      "name": "python3",
      "display_name": "Python 3"
    },
    "language_info": {
      "name": "python"
    }
  },
  "cells": [
    {
      "cell_type": "markdown",
      "source": [
        "1. Write a Python program to print &quot;Hello Python&quot;?"
      ],
      "metadata": {
        "id": "gahNx9A62LIx"
      }
    },
    {
      "cell_type": "code",
      "execution_count": 1,
      "metadata": {
        "colab": {
          "base_uri": "https://localhost:8080/"
        },
        "id": "3wbplGus1-wh",
        "outputId": "cb6501fb-9eb9-49d2-8761-54f646474b09"
      },
      "outputs": [
        {
          "output_type": "stream",
          "name": "stdout",
          "text": [
            "Hello Python\n"
          ]
        }
      ],
      "source": [
        "print(\"Hello Python\")"
      ]
    },
    {
      "cell_type": "markdown",
      "source": [
        "2. Write a Python program to do arithmetical operations addition and division.?"
      ],
      "metadata": {
        "id": "IYKrg0w12SS-"
      }
    },
    {
      "cell_type": "code",
      "source": [
        "a,b = 10,5\n",
        "print(f\"addition: {a+b}\")\n",
        "print(f\"division: {a/b}\")"
      ],
      "metadata": {
        "colab": {
          "base_uri": "https://localhost:8080/"
        },
        "id": "1XPvDI782Vds",
        "outputId": "81265997-4b9c-426d-e5c0-15bdead73239"
      },
      "execution_count": 2,
      "outputs": [
        {
          "output_type": "stream",
          "name": "stdout",
          "text": [
            "addition: 15\n",
            "division: 2.0\n"
          ]
        }
      ]
    },
    {
      "cell_type": "markdown",
      "source": [
        "3. Write a Python program to find the area of a triangle?\n",
        "#####Asuming that given triangle is right angle triangle"
      ],
      "metadata": {
        "id": "0c5k6s962pHu"
      }
    },
    {
      "cell_type": "code",
      "source": [
        "def areaOfTriangle(b,h):\n",
        "  return b*h*0.5\n",
        "\n",
        "areaOfTriangle(5,10)"
      ],
      "metadata": {
        "colab": {
          "base_uri": "https://localhost:8080/"
        },
        "id": "oAME0xad2rsu",
        "outputId": "6f48e822-cc77-48ad-92ca-3663d69428fd"
      },
      "execution_count": 3,
      "outputs": [
        {
          "output_type": "execute_result",
          "data": {
            "text/plain": [
              "25.0"
            ]
          },
          "metadata": {},
          "execution_count": 3
        }
      ]
    },
    {
      "cell_type": "markdown",
      "source": [
        "4. Write a Python program to swap two variables?"
      ],
      "metadata": {
        "id": "kCUsk6GA3ArI"
      }
    },
    {
      "cell_type": "code",
      "source": [
        "def swap(a,b):\n",
        "  return b,a\n",
        "\n",
        "a,b = 5, 10\n",
        "print(f\"before swaping:\\n\\ta: {a}\\n\\tb: {b}\")\n",
        "a,b = swap(a,b)\n",
        "print(f\"after swaping:\\n\\ta: {a}\\n\\tb: {b}\")"
      ],
      "metadata": {
        "colab": {
          "base_uri": "https://localhost:8080/"
        },
        "id": "BzV0Nf4Y3C3a",
        "outputId": "4765aa71-c0d4-4585-dfac-ab353b9b2abf"
      },
      "execution_count": 5,
      "outputs": [
        {
          "output_type": "stream",
          "name": "stdout",
          "text": [
            "before swaping:\n",
            "\ta: 5\n",
            "\tb: 10\n",
            "after swaping:\n",
            "\ta: 10\n",
            "\tb: 5\n"
          ]
        }
      ]
    },
    {
      "cell_type": "markdown",
      "source": [
        "5. Write a Python program to generate a random number?"
      ],
      "metadata": {
        "id": "9VEDxz_93cxg"
      }
    },
    {
      "cell_type": "code",
      "source": [
        "import random\n",
        "#given code will return a random number between 10 and 20 both inclusive\n",
        "print( random.randint(10,20))"
      ],
      "metadata": {
        "colab": {
          "base_uri": "https://localhost:8080/"
        },
        "id": "D70EHV9G3exY",
        "outputId": "9fe733f3-7b93-4b55-acf4-0fe8c4bbc0ff"
      },
      "execution_count": 6,
      "outputs": [
        {
          "output_type": "stream",
          "name": "stdout",
          "text": [
            "16\n"
          ]
        }
      ]
    }
  ]
}